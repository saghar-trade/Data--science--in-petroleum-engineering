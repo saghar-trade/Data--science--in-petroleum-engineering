{
 "cells": [
  {
   "cell_type": "code",
   "execution_count": 48,
   "metadata": {},
   "outputs": [],
   "source": [
    "import numpy as np\n",
    "import pandas as pd\n",
    "import matplotlib.pyplot as plt\n",
    "from sklearn.svm import SVC\n",
    "from sklearn.model_selection import train_test_split"
   ]
  },
  {
   "cell_type": "code",
   "execution_count": 49,
   "metadata": {},
   "outputs": [],
   "source": [
    "df=pd.read_csv('Social_Network_Ads.csv')"
   ]
  },
  {
   "cell_type": "code",
   "execution_count": 50,
   "metadata": {},
   "outputs": [
    {
     "data": {
      "text/html": [
       "<div>\n",
       "<style scoped>\n",
       "    .dataframe tbody tr th:only-of-type {\n",
       "        vertical-align: middle;\n",
       "    }\n",
       "\n",
       "    .dataframe tbody tr th {\n",
       "        vertical-align: top;\n",
       "    }\n",
       "\n",
       "    .dataframe thead th {\n",
       "        text-align: right;\n",
       "    }\n",
       "</style>\n",
       "<table border=\"1\" class=\"dataframe\">\n",
       "  <thead>\n",
       "    <tr style=\"text-align: right;\">\n",
       "      <th></th>\n",
       "      <th>User ID</th>\n",
       "      <th>Gender</th>\n",
       "      <th>Age</th>\n",
       "      <th>EstimatedSalary</th>\n",
       "      <th>Purchased</th>\n",
       "    </tr>\n",
       "  </thead>\n",
       "  <tbody>\n",
       "    <tr>\n",
       "      <th>0</th>\n",
       "      <td>15624510</td>\n",
       "      <td>Male</td>\n",
       "      <td>19</td>\n",
       "      <td>19000</td>\n",
       "      <td>0</td>\n",
       "    </tr>\n",
       "    <tr>\n",
       "      <th>1</th>\n",
       "      <td>15810944</td>\n",
       "      <td>Male</td>\n",
       "      <td>35</td>\n",
       "      <td>20000</td>\n",
       "      <td>0</td>\n",
       "    </tr>\n",
       "    <tr>\n",
       "      <th>2</th>\n",
       "      <td>15668575</td>\n",
       "      <td>Female</td>\n",
       "      <td>26</td>\n",
       "      <td>43000</td>\n",
       "      <td>0</td>\n",
       "    </tr>\n",
       "    <tr>\n",
       "      <th>3</th>\n",
       "      <td>15603246</td>\n",
       "      <td>Female</td>\n",
       "      <td>27</td>\n",
       "      <td>57000</td>\n",
       "      <td>0</td>\n",
       "    </tr>\n",
       "    <tr>\n",
       "      <th>4</th>\n",
       "      <td>15804002</td>\n",
       "      <td>Male</td>\n",
       "      <td>19</td>\n",
       "      <td>76000</td>\n",
       "      <td>0</td>\n",
       "    </tr>\n",
       "  </tbody>\n",
       "</table>\n",
       "</div>"
      ],
      "text/plain": [
       "    User ID  Gender  Age  EstimatedSalary  Purchased\n",
       "0  15624510    Male   19            19000          0\n",
       "1  15810944    Male   35            20000          0\n",
       "2  15668575  Female   26            43000          0\n",
       "3  15603246  Female   27            57000          0\n",
       "4  15804002    Male   19            76000          0"
      ]
     },
     "execution_count": 50,
     "metadata": {},
     "output_type": "execute_result"
    }
   ],
   "source": [
    "df.head()"
   ]
  },
  {
   "cell_type": "code",
   "execution_count": 51,
   "metadata": {},
   "outputs": [],
   "source": [
    "df.drop('User ID', axis=1, inplace=True)"
   ]
  },
  {
   "cell_type": "code",
   "execution_count": 52,
   "metadata": {},
   "outputs": [],
   "source": [
    "df = pd.concat([df.drop('Gender', axis=1),\n",
    "                pd.get_dummies(df['Gender'], drop_first=True)], axis=1)"
   ]
  },
  {
   "cell_type": "code",
   "execution_count": 53,
   "metadata": {},
   "outputs": [],
   "source": [
    "df = df.apply(pd.to_numeric, errors='coerce')\n"
   ]
  },
  {
   "cell_type": "code",
   "execution_count": 54,
   "metadata": {},
   "outputs": [],
   "source": [
    "x = df.iloc[:, :-1].to_numpy()\n",
    "y = df.iloc[:, -1].to_numpy()"
   ]
  },
  {
   "cell_type": "code",
   "execution_count": 55,
   "metadata": {},
   "outputs": [],
   "source": [
    "X_train, X_test, y_train, y_test = train_test_split(x, y, test_size=0.15, random_state=42)"
   ]
  },
  {
   "cell_type": "code",
   "execution_count": 56,
   "metadata": {},
   "outputs": [
    {
     "name": "stdout",
     "output_type": "stream",
     "text": [
      "False\n"
     ]
    }
   ],
   "source": [
    "print(np.isnan(X_train).any())\n"
   ]
  },
  {
   "cell_type": "code",
   "execution_count": 57,
   "metadata": {},
   "outputs": [
    {
     "ename": "NameError",
     "evalue": "name 'std' is not defined",
     "output_type": "error",
     "traceback": [
      "\u001b[31m---------------------------------------------------------------------------\u001b[39m",
      "\u001b[31mNameError\u001b[39m                                 Traceback (most recent call last)",
      "\u001b[36mCell\u001b[39m\u001b[36m \u001b[39m\u001b[32mIn[57]\u001b[39m\u001b[32m, line 3\u001b[39m\n\u001b[32m      1\u001b[39m X_test=(X_test-X_train.mean(axis=\u001b[32m0\u001b[39m))/X_train.std(axis=\u001b[32m0\u001b[39m)\n\u001b[32m      2\u001b[39m X_train=(X_train-X_train.mean(axis=\u001b[32m0\u001b[39m))/X_train.std(axis=\u001b[32m0\u001b[39m)\n\u001b[32m----> \u001b[39m\u001b[32m3\u001b[39m \u001b[43mstd\u001b[49m[std == \u001b[32m0\u001b[39m] = \u001b[32m1\u001b[39m\n\u001b[32m      5\u001b[39m X_train = np.nan_to_num(X_train)\n\u001b[32m      6\u001b[39m X_test = np.nan_to_num(X_test)\n",
      "\u001b[31mNameError\u001b[39m: name 'std' is not defined"
     ]
    }
   ],
   "source": [
    "X_test=(X_test-X_train.mean(axis=0))/X_train.std(axis=0)\n",
    "X_train=(X_train-X_train.mean(axis=0))/X_train.std(axis=0)\n",
    "std[std == 0] = 1\n",
    "\n",
    "X_train = np.nan_to_num(X_train)\n",
    "X_test = np.nan_to_num(X_test)\n"
   ]
  },
  {
   "cell_type": "code",
   "execution_count": null,
   "metadata": {},
   "outputs": [],
   "source": [
    "print(type(X_train))\n",
    "print(X_train.shape)\n"
   ]
  },
  {
   "cell_type": "code",
   "execution_count": null,
   "metadata": {},
   "outputs": [],
   "source": [
    "X_test.shape"
   ]
  },
  {
   "cell_type": "code",
   "execution_count": null,
   "metadata": {},
   "outputs": [],
   "source": [
    "clf=SVC(kernel='rbf')"
   ]
  },
  {
   "cell_type": "code",
   "execution_count": null,
   "metadata": {},
   "outputs": [],
   "source": [
    "clf.fit(X_train, y_train)\n",
    "\n",
    "print(clf.score(X_train,y_train))\n",
    "print(clf.score(X_test,y_test))"
   ]
  },
  {
   "cell_type": "code",
   "execution_count": null,
   "metadata": {},
   "outputs": [
    {
     "name": "stdout",
     "output_type": "stream",
     "text": [
      "For C of 2.2399999999999998 ,Training accuracy: 0.9058823529411765 , Test accuracy is 0.95\n",
      "For C of 2.25 ,Training accuracy: 0.9058823529411765 , Test accuracy is 0.95\n",
      "For C of 2.26 ,Training accuracy: 0.9058823529411765 , Test accuracy is 0.95\n",
      "For C of 2.27 ,Training accuracy: 0.9058823529411765 , Test accuracy is 0.95\n",
      "For C of 2.28 ,Training accuracy: 0.9058823529411765 , Test accuracy is 0.95\n",
      "For C of 2.29 ,Training accuracy: 0.9058823529411765 , Test accuracy is 0.95\n",
      "For C of 2.3 ,Training accuracy: 0.9058823529411765 , Test accuracy is 0.95\n",
      "For C of 2.31 ,Training accuracy: 0.9058823529411765 , Test accuracy is 0.95\n",
      "For C of 2.32 ,Training accuracy: 0.9058823529411765 , Test accuracy is 0.95\n",
      "For C of 2.3299999999999996 ,Training accuracy: 0.9058823529411765 , Test accuracy is 0.95\n",
      "For C of 2.34 ,Training accuracy: 0.9058823529411765 , Test accuracy is 0.95\n",
      "For C of 2.3499999999999996 ,Training accuracy: 0.9058823529411765 , Test accuracy is 0.95\n",
      "For C of 2.36 ,Training accuracy: 0.9058823529411765 , Test accuracy is 0.95\n",
      "For C of 2.3699999999999997 ,Training accuracy: 0.9058823529411765 , Test accuracy is 0.95\n",
      "For C of 2.38 ,Training accuracy: 0.9058823529411765 , Test accuracy is 0.95\n",
      "For C of 2.3899999999999997 ,Training accuracy: 0.9058823529411765 , Test accuracy is 0.95\n",
      "For C of 2.4 ,Training accuracy: 0.9058823529411765 , Test accuracy is 0.95\n",
      "For C of 2.4099999999999997 ,Training accuracy: 0.9058823529411765 , Test accuracy is 0.95\n",
      "For C of 2.42 ,Training accuracy: 0.9058823529411765 , Test accuracy is 0.95\n",
      "For C of 2.4299999999999997 ,Training accuracy: 0.9058823529411765 , Test accuracy is 0.95\n",
      "For C of 2.44 ,Training accuracy: 0.9058823529411765 , Test accuracy is 0.95\n",
      "For C of 2.4499999999999997 ,Training accuracy: 0.9058823529411765 , Test accuracy is 0.95\n",
      "For C of 2.46 ,Training accuracy: 0.9029411764705882 , Test accuracy is 0.95\n",
      "For C of 2.4699999999999998 ,Training accuracy: 0.9029411764705882 , Test accuracy is 0.95\n",
      "For C of 2.48 ,Training accuracy: 0.9029411764705882 , Test accuracy is 0.95\n",
      "For C of 2.4899999999999998 ,Training accuracy: 0.9029411764705882 , Test accuracy is 0.95\n",
      "For C of 2.5 ,Training accuracy: 0.9029411764705882 , Test accuracy is 0.95\n",
      "For C of 2.51 ,Training accuracy: 0.9029411764705882 , Test accuracy is 0.95\n",
      "For C of 2.52 ,Training accuracy: 0.9029411764705882 , Test accuracy is 0.95\n",
      "For C of 2.53 ,Training accuracy: 0.9029411764705882 , Test accuracy is 0.95\n",
      "For C of 2.54 ,Training accuracy: 0.9029411764705882 , Test accuracy is 0.95\n",
      "For C of 2.55 ,Training accuracy: 0.9029411764705882 , Test accuracy is 0.95\n",
      "For C of 2.56 ,Training accuracy: 0.9029411764705882 , Test accuracy is 0.95\n",
      "For C of 2.57 ,Training accuracy: 0.9029411764705882 , Test accuracy is 0.95\n",
      "For C of 2.5799999999999996 ,Training accuracy: 0.9029411764705882 , Test accuracy is 0.95\n",
      "For C of 2.59 ,Training accuracy: 0.9029411764705882 , Test accuracy is 0.95\n",
      "For C of 2.5999999999999996 ,Training accuracy: 0.9029411764705882 , Test accuracy is 0.95\n",
      "For C of 2.61 ,Training accuracy: 0.9029411764705882 , Test accuracy is 0.95\n",
      "For C of 2.6199999999999997 ,Training accuracy: 0.9029411764705882 , Test accuracy is 0.95\n",
      "For C of 2.63 ,Training accuracy: 0.9029411764705882 , Test accuracy is 0.95\n",
      "For C of 2.6399999999999997 ,Training accuracy: 0.9029411764705882 , Test accuracy is 0.95\n",
      "For C of 2.65 ,Training accuracy: 0.9029411764705882 , Test accuracy is 0.95\n",
      "For C of 2.6599999999999997 ,Training accuracy: 0.9029411764705882 , Test accuracy is 0.95\n",
      "For C of 2.67 ,Training accuracy: 0.9029411764705882 , Test accuracy is 0.95\n",
      "For C of 2.6799999999999997 ,Training accuracy: 0.9029411764705882 , Test accuracy is 0.95\n",
      "For C of 2.69 ,Training accuracy: 0.9029411764705882 , Test accuracy is 0.95\n",
      "For C of 2.6999999999999997 ,Training accuracy: 0.9029411764705882 , Test accuracy is 0.95\n",
      "For C of 2.71 ,Training accuracy: 0.9029411764705882 , Test accuracy is 0.95\n",
      "For C of 2.7199999999999998 ,Training accuracy: 0.9029411764705882 , Test accuracy is 0.95\n",
      "For C of 2.73 ,Training accuracy: 0.9029411764705882 , Test accuracy is 0.95\n",
      "For C of 2.7399999999999998 ,Training accuracy: 0.9029411764705882 , Test accuracy is 0.95\n",
      "For C of 2.75 ,Training accuracy: 0.9029411764705882 , Test accuracy is 0.95\n",
      "For C of 2.76 ,Training accuracy: 0.9029411764705882 , Test accuracy is 0.95\n",
      "For C of 2.77 ,Training accuracy: 0.9029411764705882 , Test accuracy is 0.95\n",
      "For C of 2.78 ,Training accuracy: 0.9058823529411765 , Test accuracy is 0.95\n",
      "For C of 2.79 ,Training accuracy: 0.9058823529411765 , Test accuracy is 0.95\n",
      "For C of 2.8 ,Training accuracy: 0.9058823529411765 , Test accuracy is 0.95\n",
      "For C of 2.81 ,Training accuracy: 0.9058823529411765 , Test accuracy is 0.95\n",
      "For C of 2.82 ,Training accuracy: 0.9058823529411765 , Test accuracy is 0.95\n",
      "For C of 2.8299999999999996 ,Training accuracy: 0.9058823529411765 , Test accuracy is 0.95\n",
      "For C of 2.84 ,Training accuracy: 0.9058823529411765 , Test accuracy is 0.95\n",
      "For C of 2.8499999999999996 ,Training accuracy: 0.9058823529411765 , Test accuracy is 0.95\n",
      "For C of 2.86 ,Training accuracy: 0.9058823529411765 , Test accuracy is 0.95\n",
      "For C of 2.8699999999999997 ,Training accuracy: 0.9058823529411765 , Test accuracy is 0.95\n",
      "For C of 2.88 ,Training accuracy: 0.9058823529411765 , Test accuracy is 0.95\n",
      "For C of 2.8899999999999997 ,Training accuracy: 0.9058823529411765 , Test accuracy is 0.95\n",
      "For C of 2.9 ,Training accuracy: 0.9058823529411765 , Test accuracy is 0.95\n",
      "For C of 2.9099999999999997 ,Training accuracy: 0.9058823529411765 , Test accuracy is 0.95\n",
      "For C of 2.92 ,Training accuracy: 0.9058823529411765 , Test accuracy is 0.95\n",
      "For C of 2.9299999999999997 ,Training accuracy: 0.9058823529411765 , Test accuracy is 0.95\n",
      "For C of 2.94 ,Training accuracy: 0.9058823529411765 , Test accuracy is 0.95\n",
      "For C of 2.9499999999999997 ,Training accuracy: 0.9058823529411765 , Test accuracy is 0.95\n",
      "For C of 2.96 ,Training accuracy: 0.9058823529411765 , Test accuracy is 0.95\n",
      "For C of 2.9699999999999998 ,Training accuracy: 0.9058823529411765 , Test accuracy is 0.95\n",
      "For C of 2.98 ,Training accuracy: 0.9058823529411765 , Test accuracy is 0.95\n",
      "For C of 2.9899999999999998 ,Training accuracy: 0.9058823529411765 , Test accuracy is 0.95\n",
      "For C of 3.0 ,Training accuracy: 0.9058823529411765 , Test accuracy is 0.95\n",
      "For C of 3.01 ,Training accuracy: 0.9058823529411765 , Test accuracy is 0.95\n",
      "For C of 3.02 ,Training accuracy: 0.9058823529411765 , Test accuracy is 0.95\n",
      "For C of 3.03 ,Training accuracy: 0.9058823529411765 , Test accuracy is 0.95\n",
      "For C of 3.04 ,Training accuracy: 0.9058823529411765 , Test accuracy is 0.95\n",
      "For C of 3.05 ,Training accuracy: 0.9058823529411765 , Test accuracy is 0.95\n",
      "For C of 3.06 ,Training accuracy: 0.9058823529411765 , Test accuracy is 0.95\n",
      "For C of 3.07 ,Training accuracy: 0.9058823529411765 , Test accuracy is 0.95\n",
      "For C of 3.08 ,Training accuracy: 0.9058823529411765 , Test accuracy is 0.95\n",
      "For C of 3.09 ,Training accuracy: 0.9058823529411765 , Test accuracy is 0.95\n",
      "For C of 3.0999999999999996 ,Training accuracy: 0.9058823529411765 , Test accuracy is 0.95\n",
      "For C of 3.11 ,Training accuracy: 0.9058823529411765 , Test accuracy is 0.95\n",
      "For C of 3.1199999999999997 ,Training accuracy: 0.9058823529411765 , Test accuracy is 0.95\n",
      "For C of 3.13 ,Training accuracy: 0.9058823529411765 , Test accuracy is 0.95\n",
      "For C of 3.1399999999999997 ,Training accuracy: 0.9058823529411765 , Test accuracy is 0.95\n",
      "For C of 3.15 ,Training accuracy: 0.9058823529411765 , Test accuracy is 0.95\n",
      "For C of 3.1599999999999997 ,Training accuracy: 0.9058823529411765 , Test accuracy is 0.95\n",
      "For C of 3.17 ,Training accuracy: 0.9058823529411765 , Test accuracy is 0.95\n",
      "For C of 3.1799999999999997 ,Training accuracy: 0.9058823529411765 , Test accuracy is 0.95\n",
      "For C of 3.19 ,Training accuracy: 0.9058823529411765 , Test accuracy is 0.95\n",
      "For C of 3.1999999999999997 ,Training accuracy: 0.9088235294117647 , Test accuracy is 0.95\n",
      "For C of 3.21 ,Training accuracy: 0.9088235294117647 , Test accuracy is 0.95\n",
      "For C of 3.2199999999999998 ,Training accuracy: 0.9088235294117647 , Test accuracy is 0.95\n",
      "For C of 3.23 ,Training accuracy: 0.9088235294117647 , Test accuracy is 0.95\n",
      "For C of 3.2399999999999998 ,Training accuracy: 0.9088235294117647 , Test accuracy is 0.95\n",
      "For C of 3.25 ,Training accuracy: 0.9088235294117647 , Test accuracy is 0.95\n",
      "For C of 3.26 ,Training accuracy: 0.9088235294117647 , Test accuracy is 0.95\n",
      "For C of 3.27 ,Training accuracy: 0.9088235294117647 , Test accuracy is 0.95\n",
      "For C of 3.28 ,Training accuracy: 0.9088235294117647 , Test accuracy is 0.95\n",
      "For C of 3.29 ,Training accuracy: 0.9088235294117647 , Test accuracy is 0.95\n",
      "For C of 3.3 ,Training accuracy: 0.9088235294117647 , Test accuracy is 0.95\n",
      "For C of 3.31 ,Training accuracy: 0.9088235294117647 , Test accuracy is 0.95\n",
      "For C of 3.32 ,Training accuracy: 0.9117647058823529 , Test accuracy is 0.95\n",
      "For C of 3.33 ,Training accuracy: 0.9117647058823529 , Test accuracy is 0.95\n",
      "For C of 3.34 ,Training accuracy: 0.9117647058823529 , Test accuracy is 0.95\n",
      "For C of 3.3499999999999996 ,Training accuracy: 0.9117647058823529 , Test accuracy is 0.95\n",
      "For C of 3.36 ,Training accuracy: 0.9117647058823529 , Test accuracy is 0.95\n"
     ]
    },
    {
     "name": "stdout",
     "output_type": "stream",
     "text": [
      "For C of 3.3699999999999997 ,Training accuracy: 0.9117647058823529 , Test accuracy is 0.95\n",
      "For C of 3.38 ,Training accuracy: 0.9117647058823529 , Test accuracy is 0.95\n",
      "For C of 3.3899999999999997 ,Training accuracy: 0.9117647058823529 , Test accuracy is 0.95\n",
      "For C of 3.4 ,Training accuracy: 0.9117647058823529 , Test accuracy is 0.95\n",
      "For C of 3.4099999999999997 ,Training accuracy: 0.9117647058823529 , Test accuracy is 0.95\n",
      "For C of 3.42 ,Training accuracy: 0.9117647058823529 , Test accuracy is 0.95\n",
      "For C of 3.4299999999999997 ,Training accuracy: 0.9117647058823529 , Test accuracy is 0.95\n",
      "For C of 3.44 ,Training accuracy: 0.9117647058823529 , Test accuracy is 0.95\n",
      "For C of 3.4499999999999997 ,Training accuracy: 0.9117647058823529 , Test accuracy is 0.95\n",
      "For C of 3.46 ,Training accuracy: 0.9117647058823529 , Test accuracy is 0.95\n",
      "For C of 3.4699999999999998 ,Training accuracy: 0.9117647058823529 , Test accuracy is 0.95\n",
      "For C of 3.48 ,Training accuracy: 0.9117647058823529 , Test accuracy is 0.95\n",
      "For C of 3.4899999999999998 ,Training accuracy: 0.9117647058823529 , Test accuracy is 0.95\n",
      "For C of 3.5 ,Training accuracy: 0.9117647058823529 , Test accuracy is 0.95\n",
      "For C of 3.51 ,Training accuracy: 0.9117647058823529 , Test accuracy is 0.95\n",
      "For C of 3.52 ,Training accuracy: 0.9117647058823529 , Test accuracy is 0.95\n",
      "For C of 3.53 ,Training accuracy: 0.9117647058823529 , Test accuracy is 0.95\n",
      "For C of 3.54 ,Training accuracy: 0.9117647058823529 , Test accuracy is 0.95\n",
      "For C of 3.55 ,Training accuracy: 0.9117647058823529 , Test accuracy is 0.95\n",
      "For C of 3.56 ,Training accuracy: 0.9117647058823529 , Test accuracy is 0.95\n",
      "For C of 3.57 ,Training accuracy: 0.9117647058823529 , Test accuracy is 0.95\n",
      "For C of 3.58 ,Training accuracy: 0.9117647058823529 , Test accuracy is 0.95\n",
      "For C of 3.59 ,Training accuracy: 0.9117647058823529 , Test accuracy is 0.95\n",
      "For C of 3.5999999999999996 ,Training accuracy: 0.9117647058823529 , Test accuracy is 0.95\n",
      "For C of 3.61 ,Training accuracy: 0.9117647058823529 , Test accuracy is 0.95\n",
      "For C of 3.6199999999999997 ,Training accuracy: 0.9117647058823529 , Test accuracy is 0.95\n",
      "For C of 3.63 ,Training accuracy: 0.9117647058823529 , Test accuracy is 0.95\n",
      "For C of 3.6399999999999997 ,Training accuracy: 0.9117647058823529 , Test accuracy is 0.95\n",
      "For C of 3.65 ,Training accuracy: 0.9117647058823529 , Test accuracy is 0.95\n",
      "For C of 3.6599999999999997 ,Training accuracy: 0.9117647058823529 , Test accuracy is 0.95\n",
      "For C of 3.67 ,Training accuracy: 0.9117647058823529 , Test accuracy is 0.95\n",
      "For C of 3.6799999999999997 ,Training accuracy: 0.9117647058823529 , Test accuracy is 0.95\n",
      "For C of 3.69 ,Training accuracy: 0.9117647058823529 , Test accuracy is 0.95\n",
      "For C of 3.6999999999999997 ,Training accuracy: 0.9117647058823529 , Test accuracy is 0.95\n",
      "For C of 3.71 ,Training accuracy: 0.9117647058823529 , Test accuracy is 0.95\n",
      "For C of 3.7199999999999998 ,Training accuracy: 0.9117647058823529 , Test accuracy is 0.95\n",
      "For C of 3.73 ,Training accuracy: 0.9117647058823529 , Test accuracy is 0.95\n",
      "For C of 3.7399999999999998 ,Training accuracy: 0.9117647058823529 , Test accuracy is 0.95\n",
      "For C of 3.75 ,Training accuracy: 0.9117647058823529 , Test accuracy is 0.95\n",
      "For C of 3.76 ,Training accuracy: 0.9117647058823529 , Test accuracy is 0.95\n",
      "For C of 3.77 ,Training accuracy: 0.9117647058823529 , Test accuracy is 0.95\n",
      "For C of 3.78 ,Training accuracy: 0.9117647058823529 , Test accuracy is 0.95\n",
      "For C of 3.79 ,Training accuracy: 0.9117647058823529 , Test accuracy is 0.95\n",
      "For C of 3.8 ,Training accuracy: 0.9117647058823529 , Test accuracy is 0.95\n",
      "For C of 3.81 ,Training accuracy: 0.9117647058823529 , Test accuracy is 0.95\n",
      "For C of 3.82 ,Training accuracy: 0.9117647058823529 , Test accuracy is 0.95\n",
      "For C of 3.83 ,Training accuracy: 0.9117647058823529 , Test accuracy is 0.95\n",
      "For C of 3.84 ,Training accuracy: 0.9117647058823529 , Test accuracy is 0.95\n",
      "For C of 3.8499999999999996 ,Training accuracy: 0.9117647058823529 , Test accuracy is 0.95\n",
      "For C of 3.86 ,Training accuracy: 0.9117647058823529 , Test accuracy is 0.95\n",
      "For C of 3.8699999999999997 ,Training accuracy: 0.9117647058823529 , Test accuracy is 0.95\n",
      "For C of 3.88 ,Training accuracy: 0.9117647058823529 , Test accuracy is 0.95\n",
      "For C of 3.8899999999999997 ,Training accuracy: 0.9117647058823529 , Test accuracy is 0.95\n",
      "For C of 3.9 ,Training accuracy: 0.9117647058823529 , Test accuracy is 0.95\n",
      "For C of 3.9099999999999997 ,Training accuracy: 0.9117647058823529 , Test accuracy is 0.95\n",
      "For C of 3.92 ,Training accuracy: 0.9117647058823529 , Test accuracy is 0.95\n",
      "For C of 3.9299999999999997 ,Training accuracy: 0.9117647058823529 , Test accuracy is 0.95\n",
      "For C of 3.94 ,Training accuracy: 0.9117647058823529 , Test accuracy is 0.95\n",
      "For C of 3.9499999999999997 ,Training accuracy: 0.9117647058823529 , Test accuracy is 0.95\n",
      "For C of 3.96 ,Training accuracy: 0.9117647058823529 , Test accuracy is 0.95\n",
      "For C of 3.9699999999999998 ,Training accuracy: 0.9117647058823529 , Test accuracy is 0.95\n",
      "For C of 3.98 ,Training accuracy: 0.9117647058823529 , Test accuracy is 0.95\n",
      "For C of 3.9899999999999998 ,Training accuracy: 0.9117647058823529 , Test accuracy is 0.95\n"
     ]
    }
   ],
   "source": [
    "for c in np.arange(0.01,4, 0.01):\n",
    "    clf=SVC(C=c, kernel='rbf')\n",
    "    clf.fit(X_train, y_train)\n",
    "    print('For C of {} ,Training accuracy: {} , Test accuracy is {}'.format(c, clf.score(X_train,y_train),clf.score(X_test,y_test)))\n"
   ]
  },
  {
   "cell_type": "code",
   "execution_count": null,
   "metadata": {},
   "outputs": [],
   "source": [
    "Train_score=[]\n",
    "Test_score=[]\n",
    "for c in np.arange(0.01,4, 0.01):\n",
    "    clf=SVC(C=c, kernel='rbf')\n",
    "    clf.fit(X_train, y_train)\n",
    "    Train_score.append(clf.score(X_train,y_train))\n",
    "    Test_score.append(clf.score(X_test,y_test))\n",
    "\n",
    "    \n",
    "plt.plot(np.arange(0.01,4, 0.01), np.array(Train_score), 'b-')\n",
    "plt.plot(np.arange(0.01,4, 0.01), np.array(Test_score), 'r-')"
   ]
  },
  {
   "cell_type": "code",
   "execution_count": null,
   "metadata": {},
   "outputs": [],
   "source": []
  }
 ],
 "metadata": {
  "kernelspec": {
   "display_name": "Python 3 (ipykernel)",
   "language": "python",
   "name": "python3"
  },
  "language_info": {
   "codemirror_mode": {
    "name": "ipython",
    "version": 3
   },
   "file_extension": ".py",
   "mimetype": "text/x-python",
   "name": "python",
   "nbconvert_exporter": "python",
   "pygments_lexer": "ipython3",
   "version": "3.13.7"
  }
 },
 "nbformat": 4,
 "nbformat_minor": 4
}
