{
 "cells": [
  {
   "cell_type": "code",
   "execution_count": 34,
   "metadata": {},
   "outputs": [],
   "source": [
    "import numpy as np\n",
    "import pandas as pd\n",
    "import matplotlib.pyplot as plt\n",
    "from sklearn.neighbors import KNeighborsClassifier\n",
    "from sklearn.model_selection import train_test_split\n",
    "from sklearn.metrics import confusion_matrix"
   ]
  },
  {
   "cell_type": "code",
   "execution_count": 35,
   "metadata": {},
   "outputs": [
    {
     "data": {
      "text/html": [
       "<div>\n",
       "<style scoped>\n",
       "    .dataframe tbody tr th:only-of-type {\n",
       "        vertical-align: middle;\n",
       "    }\n",
       "\n",
       "    .dataframe tbody tr th {\n",
       "        vertical-align: top;\n",
       "    }\n",
       "\n",
       "    .dataframe thead th {\n",
       "        text-align: right;\n",
       "    }\n",
       "</style>\n",
       "<table border=\"1\" class=\"dataframe\">\n",
       "  <thead>\n",
       "    <tr style=\"text-align: right;\">\n",
       "      <th></th>\n",
       "      <th>Number</th>\n",
       "      <th>Country</th>\n",
       "      <th>Permeability , md</th>\n",
       "      <th>Depth , ft</th>\n",
       "      <th>Gravity , °API</th>\n",
       "      <th>Viscosity , cp</th>\n",
       "      <th>Temprature , °F</th>\n",
       "      <th>Saturation</th>\n",
       "      <th>Observed</th>\n",
       "    </tr>\n",
       "  </thead>\n",
       "  <tbody>\n",
       "    <tr>\n",
       "      <th>0</th>\n",
       "      <td>1</td>\n",
       "      <td>USA</td>\n",
       "      <td>40</td>\n",
       "      <td>7100</td>\n",
       "      <td>22</td>\n",
       "      <td>20</td>\n",
       "      <td>153.0</td>\n",
       "      <td>1</td>\n",
       "      <td>Polmer</td>\n",
       "    </tr>\n",
       "    <tr>\n",
       "      <th>1</th>\n",
       "      <td>2</td>\n",
       "      <td>USA</td>\n",
       "      <td>33</td>\n",
       "      <td>5250</td>\n",
       "      <td>40</td>\n",
       "      <td>1</td>\n",
       "      <td>135.0</td>\n",
       "      <td>50</td>\n",
       "      <td>Polmer</td>\n",
       "    </tr>\n",
       "    <tr>\n",
       "      <th>2</th>\n",
       "      <td>3</td>\n",
       "      <td>USA</td>\n",
       "      <td>16</td>\n",
       "      <td>7900</td>\n",
       "      <td>30</td>\n",
       "      <td>3</td>\n",
       "      <td>150.0</td>\n",
       "      <td>75</td>\n",
       "      <td>Polmer</td>\n",
       "    </tr>\n",
       "    <tr>\n",
       "      <th>3</th>\n",
       "      <td>4</td>\n",
       "      <td>USA</td>\n",
       "      <td>550</td>\n",
       "      <td>700</td>\n",
       "      <td>35</td>\n",
       "      <td>6</td>\n",
       "      <td>80.0</td>\n",
       "      <td>64</td>\n",
       "      <td>Polmer</td>\n",
       "    </tr>\n",
       "    <tr>\n",
       "      <th>4</th>\n",
       "      <td>5</td>\n",
       "      <td>USA</td>\n",
       "      <td>471</td>\n",
       "      <td>4010</td>\n",
       "      <td>15</td>\n",
       "      <td>75</td>\n",
       "      <td>150.0</td>\n",
       "      <td>62</td>\n",
       "      <td>Polmer</td>\n",
       "    </tr>\n",
       "  </tbody>\n",
       "</table>\n",
       "</div>"
      ],
      "text/plain": [
       "   Number Country  Permeability , md  Depth , ft  Gravity , °API  \\\n",
       "0       1     USA                 40        7100              22   \n",
       "1       2     USA                 33        5250              40   \n",
       "2       3     USA                 16        7900              30   \n",
       "3       4     USA                550         700              35   \n",
       "4       5     USA                471        4010              15   \n",
       "\n",
       "   Viscosity , cp  Temprature , °F  Saturation Observed  \n",
       "0              20            153.0           1   Polmer  \n",
       "1               1            135.0          50   Polmer  \n",
       "2               3            150.0          75   Polmer  \n",
       "3               6             80.0          64   Polmer  \n",
       "4              75            150.0          62   Polmer  "
      ]
     },
     "execution_count": 35,
     "metadata": {},
     "output_type": "execute_result"
    }
   ],
   "source": [
    "df=pd.read_excel('./eordata.xlsx')\n",
    "\n",
    "df.head(5)"
   ]
  },
  {
   "cell_type": "code",
   "execution_count": 36,
   "metadata": {},
   "outputs": [
    {
     "data": {
      "text/html": [
       "<div>\n",
       "<style scoped>\n",
       "    .dataframe tbody tr th:only-of-type {\n",
       "        vertical-align: middle;\n",
       "    }\n",
       "\n",
       "    .dataframe tbody tr th {\n",
       "        vertical-align: top;\n",
       "    }\n",
       "\n",
       "    .dataframe thead th {\n",
       "        text-align: right;\n",
       "    }\n",
       "</style>\n",
       "<table border=\"1\" class=\"dataframe\">\n",
       "  <thead>\n",
       "    <tr style=\"text-align: right;\">\n",
       "      <th></th>\n",
       "      <th>Permeability , md</th>\n",
       "      <th>Depth , ft</th>\n",
       "      <th>Gravity , °API</th>\n",
       "      <th>Viscosity , cp</th>\n",
       "      <th>Temprature , °F</th>\n",
       "      <th>Saturation</th>\n",
       "      <th>Observed</th>\n",
       "    </tr>\n",
       "  </thead>\n",
       "  <tbody>\n",
       "    <tr>\n",
       "      <th>0</th>\n",
       "      <td>40</td>\n",
       "      <td>7100</td>\n",
       "      <td>22</td>\n",
       "      <td>20</td>\n",
       "      <td>153.0</td>\n",
       "      <td>1</td>\n",
       "      <td>Polmer</td>\n",
       "    </tr>\n",
       "    <tr>\n",
       "      <th>1</th>\n",
       "      <td>33</td>\n",
       "      <td>5250</td>\n",
       "      <td>40</td>\n",
       "      <td>1</td>\n",
       "      <td>135.0</td>\n",
       "      <td>50</td>\n",
       "      <td>Polmer</td>\n",
       "    </tr>\n",
       "    <tr>\n",
       "      <th>2</th>\n",
       "      <td>16</td>\n",
       "      <td>7900</td>\n",
       "      <td>30</td>\n",
       "      <td>3</td>\n",
       "      <td>150.0</td>\n",
       "      <td>75</td>\n",
       "      <td>Polmer</td>\n",
       "    </tr>\n",
       "    <tr>\n",
       "      <th>3</th>\n",
       "      <td>550</td>\n",
       "      <td>700</td>\n",
       "      <td>35</td>\n",
       "      <td>6</td>\n",
       "      <td>80.0</td>\n",
       "      <td>64</td>\n",
       "      <td>Polmer</td>\n",
       "    </tr>\n",
       "    <tr>\n",
       "      <th>4</th>\n",
       "      <td>471</td>\n",
       "      <td>4010</td>\n",
       "      <td>15</td>\n",
       "      <td>75</td>\n",
       "      <td>150.0</td>\n",
       "      <td>62</td>\n",
       "      <td>Polmer</td>\n",
       "    </tr>\n",
       "  </tbody>\n",
       "</table>\n",
       "</div>"
      ],
      "text/plain": [
       "   Permeability , md  Depth , ft  Gravity , °API  Viscosity , cp  \\\n",
       "0                 40        7100              22              20   \n",
       "1                 33        5250              40               1   \n",
       "2                 16        7900              30               3   \n",
       "3                550         700              35               6   \n",
       "4                471        4010              15              75   \n",
       "\n",
       "   Temprature , °F  Saturation Observed  \n",
       "0            153.0           1   Polmer  \n",
       "1            135.0          50   Polmer  \n",
       "2            150.0          75   Polmer  \n",
       "3             80.0          64   Polmer  \n",
       "4            150.0          62   Polmer  "
      ]
     },
     "execution_count": 36,
     "metadata": {},
     "output_type": "execute_result"
    }
   ],
   "source": [
    "df.drop('Number', axis=1, inplace=True)\n",
    "df.drop('Country', axis=1, inplace=True)\n",
    "df.head(5)"
   ]
  },
  {
   "cell_type": "code",
   "execution_count": 37,
   "metadata": {},
   "outputs": [],
   "source": [
    "from sklearn.preprocessing import LabelEncoder\n",
    "\n",
    "le = LabelEncoder()\n",
    "df['Observed'] = le.fit_transform(df['Observed'])"
   ]
  },
  {
   "cell_type": "code",
   "execution_count": 51,
   "metadata": {},
   "outputs": [
    {
     "data": {
      "text/html": [
       "<div>\n",
       "<style scoped>\n",
       "    .dataframe tbody tr th:only-of-type {\n",
       "        vertical-align: middle;\n",
       "    }\n",
       "\n",
       "    .dataframe tbody tr th {\n",
       "        vertical-align: top;\n",
       "    }\n",
       "\n",
       "    .dataframe thead th {\n",
       "        text-align: right;\n",
       "    }\n",
       "</style>\n",
       "<table border=\"1\" class=\"dataframe\">\n",
       "  <thead>\n",
       "    <tr style=\"text-align: right;\">\n",
       "      <th></th>\n",
       "      <th>Permeability , md</th>\n",
       "      <th>Depth , ft</th>\n",
       "      <th>Gravity , °API</th>\n",
       "      <th>Viscosity , cp</th>\n",
       "      <th>Temprature , °F</th>\n",
       "      <th>Saturation</th>\n",
       "      <th>Observed</th>\n",
       "    </tr>\n",
       "  </thead>\n",
       "  <tbody>\n",
       "    <tr>\n",
       "      <th>0</th>\n",
       "      <td>40</td>\n",
       "      <td>7100</td>\n",
       "      <td>22</td>\n",
       "      <td>20</td>\n",
       "      <td>153.0</td>\n",
       "      <td>1</td>\n",
       "      <td>4</td>\n",
       "    </tr>\n",
       "    <tr>\n",
       "      <th>1</th>\n",
       "      <td>33</td>\n",
       "      <td>5250</td>\n",
       "      <td>40</td>\n",
       "      <td>1</td>\n",
       "      <td>135.0</td>\n",
       "      <td>50</td>\n",
       "      <td>4</td>\n",
       "    </tr>\n",
       "    <tr>\n",
       "      <th>2</th>\n",
       "      <td>16</td>\n",
       "      <td>7900</td>\n",
       "      <td>30</td>\n",
       "      <td>3</td>\n",
       "      <td>150.0</td>\n",
       "      <td>75</td>\n",
       "      <td>4</td>\n",
       "    </tr>\n",
       "    <tr>\n",
       "      <th>3</th>\n",
       "      <td>550</td>\n",
       "      <td>700</td>\n",
       "      <td>35</td>\n",
       "      <td>6</td>\n",
       "      <td>80.0</td>\n",
       "      <td>64</td>\n",
       "      <td>4</td>\n",
       "    </tr>\n",
       "    <tr>\n",
       "      <th>4</th>\n",
       "      <td>471</td>\n",
       "      <td>4010</td>\n",
       "      <td>15</td>\n",
       "      <td>75</td>\n",
       "      <td>150.0</td>\n",
       "      <td>62</td>\n",
       "      <td>4</td>\n",
       "    </tr>\n",
       "    <tr>\n",
       "      <th>...</th>\n",
       "      <td>...</td>\n",
       "      <td>...</td>\n",
       "      <td>...</td>\n",
       "      <td>...</td>\n",
       "      <td>...</td>\n",
       "      <td>...</td>\n",
       "      <td>...</td>\n",
       "    </tr>\n",
       "    <tr>\n",
       "      <th>458</th>\n",
       "      <td>5500</td>\n",
       "      <td>2560</td>\n",
       "      <td>25</td>\n",
       "      <td>175</td>\n",
       "      <td>NaN</td>\n",
       "      <td>85</td>\n",
       "      <td>6</td>\n",
       "    </tr>\n",
       "    <tr>\n",
       "      <th>459</th>\n",
       "      <td>5500</td>\n",
       "      <td>2500</td>\n",
       "      <td>25</td>\n",
       "      <td>175</td>\n",
       "      <td>NaN</td>\n",
       "      <td>84</td>\n",
       "      <td>6</td>\n",
       "    </tr>\n",
       "    <tr>\n",
       "      <th>460</th>\n",
       "      <td>3500</td>\n",
       "      <td>475</td>\n",
       "      <td>19</td>\n",
       "      <td>1200</td>\n",
       "      <td>NaN</td>\n",
       "      <td>65</td>\n",
       "      <td>6</td>\n",
       "    </tr>\n",
       "    <tr>\n",
       "      <th>461</th>\n",
       "      <td>2000</td>\n",
       "      <td>2100</td>\n",
       "      <td>12</td>\n",
       "      <td>900</td>\n",
       "      <td>NaN</td>\n",
       "      <td>15</td>\n",
       "      <td>6</td>\n",
       "    </tr>\n",
       "    <tr>\n",
       "      <th>462</th>\n",
       "      <td>1500</td>\n",
       "      <td>1350</td>\n",
       "      <td>14</td>\n",
       "      <td>3350</td>\n",
       "      <td>NaN</td>\n",
       "      <td>48</td>\n",
       "      <td>6</td>\n",
       "    </tr>\n",
       "  </tbody>\n",
       "</table>\n",
       "<p>463 rows × 7 columns</p>\n",
       "</div>"
      ],
      "text/plain": [
       "     Permeability , md  Depth , ft  Gravity , °API  Viscosity , cp  \\\n",
       "0                   40        7100              22              20   \n",
       "1                   33        5250              40               1   \n",
       "2                   16        7900              30               3   \n",
       "3                  550         700              35               6   \n",
       "4                  471        4010              15              75   \n",
       "..                 ...         ...             ...             ...   \n",
       "458               5500        2560              25             175   \n",
       "459               5500        2500              25             175   \n",
       "460               3500         475              19            1200   \n",
       "461               2000        2100              12             900   \n",
       "462               1500        1350              14            3350   \n",
       "\n",
       "     Temprature , °F  Saturation  Observed  \n",
       "0              153.0           1         4  \n",
       "1              135.0          50         4  \n",
       "2              150.0          75         4  \n",
       "3               80.0          64         4  \n",
       "4              150.0          62         4  \n",
       "..               ...         ...       ...  \n",
       "458              NaN          85         6  \n",
       "459              NaN          84         6  \n",
       "460              NaN          65         6  \n",
       "461              NaN          15         6  \n",
       "462              NaN          48         6  \n",
       "\n",
       "[463 rows x 7 columns]"
      ]
     },
     "execution_count": 51,
     "metadata": {},
     "output_type": "execute_result"
    }
   ],
   "source": [
    "df\n"
   ]
  },
  {
   "cell_type": "code",
   "execution_count": 55,
   "metadata": {},
   "outputs": [],
   "source": [
    "X = df.to_numpy()\n",
    "\n",
    "\n",
    "y = X[:, -1]\n",
    "x = X[:, :-1]"
   ]
  },
  {
   "cell_type": "code",
   "execution_count": 39,
   "metadata": {},
   "outputs": [
    {
     "name": "stdout",
     "output_type": "stream",
     "text": [
      "Permeability , md      int64\n",
      "Depth , ft             int64\n",
      "Gravity , °API         int64\n",
      "Viscosity , cp         int64\n",
      "Temprature , °F      float64\n",
      "Saturation             int64\n",
      "Observed               int64\n",
      "dtype: object\n"
     ]
    }
   ],
   "source": [
    "print(df.dtypes)\n"
   ]
  },
  {
   "cell_type": "code",
   "execution_count": 57,
   "metadata": {},
   "outputs": [],
   "source": [
    "X_train, X_test, y_train, y_test = train_test_split(x, y, test_size=0.25, random_state=42)"
   ]
  },
  {
   "cell_type": "code",
   "execution_count": 59,
   "metadata": {},
   "outputs": [],
   "source": [
    "mean=X_train.mean(axis=0)\n",
    "std=np.std(X_train, axis=0,dtype='float64')\n",
    "X_train=(X_train-mean)/std\n",
    "X_test=(X_test-mean)/std"
   ]
  },
  {
   "cell_type": "code",
   "execution_count": 61,
   "metadata": {},
   "outputs": [
    {
     "name": "stdout",
     "output_type": "stream",
     "text": [
      "(347, 6)\n",
      "(347,)\n",
      "<class 'numpy.ndarray'> <class 'numpy.ndarray'>\n"
     ]
    }
   ],
   "source": [
    "print(X_train.shape)\n",
    "print(y_train.shape)\n",
    "print(type(X_train), type(y_train))\n"
   ]
  },
  {
   "cell_type": "code",
   "execution_count": 65,
   "metadata": {},
   "outputs": [
    {
     "name": "stdout",
     "output_type": "stream",
     "text": [
      "True\n",
      "False\n"
     ]
    }
   ],
   "source": [
    "import numpy as np\n",
    "print(np.isnan(X_train).any())\n",
    "print(np.isinf(X_train).any())\n"
   ]
  },
  {
   "cell_type": "code",
   "execution_count": 67,
   "metadata": {},
   "outputs": [],
   "source": [
    "X_train = np.nan_to_num(X_train)\n",
    "X_test = np.nan_to_num(X_test)\n"
   ]
  },
  {
   "cell_type": "code",
   "execution_count": 69,
   "metadata": {},
   "outputs": [
    {
     "data": {
      "text/plain": [
       "<matplotlib.legend.Legend at 0x1f6079bb8c0>"
      ]
     },
     "execution_count": 69,
     "metadata": {},
     "output_type": "execute_result"
    },
    {
     "data": {
      "image/png": "[encoded data removed]",
      "text/plain": [
       "<Figure size 640x480 with 1 Axes>"
      ]
     },
     "metadata": {},
     "output_type": "display_data"
    }
   ],
   "source": [
    "Train_score=[]\n",
    "Test_score=[]\n",
    "for i in range(1,30,1):\n",
    "    clf=KNeighborsClassifier(n_neighbors=i)\n",
    "    clf.fit(X_train, y_train)\n",
    "    Train_score.append(clf.score(X_train,y_train))\n",
    "    Test_score.append(clf.score(X_test,y_test))\n",
    "\n",
    "    \n",
    "plt.plot(np.arange(1,30,1), np.array(Train_score), 'b-', label='Training phase')\n",
    "plt.plot(np.arange(1,30,1), np.array(Test_score), 'r-',label='Testing phase')\n",
    "plt.xlabel('Number of neighbors')\n",
    "plt.ylabel('Accuracy')\n",
    "plt.legend()"
   ]
  },
  {
   "cell_type": "code",
   "execution_count": 71,
   "metadata": {},
   "outputs": [
    {
     "name": "stdout",
     "output_type": "stream",
     "text": [
      "0.8789625360230547\n",
      "0.8103448275862069\n"
     ]
    }
   ],
   "source": [
    "clf=KNeighborsClassifier(n_neighbors=5)\n",
    "clf.fit(X_train, y_train)\n",
    "\n",
    "print(clf.score(X_train,y_train))\n",
    "print(clf.score(X_test,y_test))"
   ]
  },
  {
   "cell_type": "code",
   "execution_count": 73,
   "metadata": {},
   "outputs": [],
   "source": [
    "SIRI=np.array([[0.89, 7050, 29.7, 0.62, 200,54.5]])"
   ]
  },
  {
   "cell_type": "markdown",
   "metadata": {},
   "source": [
    "### "
   ]
  },
  {
   "cell_type": "code",
   "execution_count": 79,
   "metadata": {},
   "outputs": [],
   "source": [
    "SIRI_N=np.nan_to_num((SIRI-mean)/std)"
   ]
  },
  {
   "cell_type": "code",
   "execution_count": 81,
   "metadata": {},
   "outputs": [
    {
     "data": {
      "text/plain": [
       "array([0.])"
      ]
     },
     "execution_count": 81,
     "metadata": {},
     "output_type": "execute_result"
    }
   ],
   "source": [
    "clf.predict(SIRI_N)"
   ]
  },
  {
   "cell_type": "code",
   "execution_count": 83,
   "metadata": {},
   "outputs": [],
   "source": [
    "h_train=clf.predict(X_train)\n",
    "h_test=clf.predict(X_test)"
   ]
  },
  {
   "cell_type": "code",
   "execution_count": 85,
   "metadata": {},
   "outputs": [
    {
     "data": {
      "text/plain": [
       "array([[104,   2,   1,   0,   2,   1,   0,   4],\n",
       "       [  4,  29,   0,   0,   2,   0,   0,   2],\n",
       "       [  1,   0,   1,   0,   0,   0,   0,   0],\n",
       "       [  2,   1,   0,   1,   0,   1,   0,   0],\n",
       "       [  5,   2,   0,   0,   9,   1,   0,   0],\n",
       "       [  1,   0,   0,   0,   1, 154,   0,   0],\n",
       "       [  0,   0,   0,   0,   0,   3,   0,   0],\n",
       "       [  2,   0,   0,   0,   1,   3,   0,   7]])"
      ]
     },
     "execution_count": 85,
     "metadata": {},
     "output_type": "execute_result"
    }
   ],
   "source": [
    "confusion_matrix(y_train,h_train)"
   ]
  },
  {
   "cell_type": "code",
   "execution_count": null,
   "metadata": {},
   "outputs": [],
   "source": []
  }
 ],
 "metadata": {
  "kernelspec": {
   "display_name": "Python 3 (ipykernel)",
   "language": "python",
   "name": "python3"
  },
  "language_info": {
   "codemirror_mode": {
    "name": "ipython",
    "version": 3
   },
   "file_extension": ".py",
   "mimetype": "text/x-python",
   "name": "python",
   "nbconvert_exporter": "python",
   "pygments_lexer": "ipython3",
   "version": "3.13.7"
  }
 },
 "nbformat": 4,
 "nbformat_minor": 4
}
