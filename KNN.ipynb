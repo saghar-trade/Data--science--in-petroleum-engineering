{
 "cells": [
  {
   "cell_type": "code",
   "execution_count": 8,
   "metadata": {},
   "outputs": [],
   "source": [
    "import numpy as np\n",
    "import pandas as pd\n",
    "import matplotlib.pyplot as plt\n",
    "from sklearn.neighbors import KNeighborsClassifier\n",
    "from sklearn.model_selection import train_test_split"
   ]
  },
  {
   "cell_type": "code",
   "execution_count": 10,
   "metadata": {},
   "outputs": [],
   "source": [
    "df=pd.read_csv('./Social_Network_Ads.csv')"
   ]
  },
  {
   "cell_type": "code",
   "execution_count": 12,
   "metadata": {},
   "outputs": [
    {
     "data": {
      "text/html": [
       "<div>\n",
       "<style scoped>\n",
       "    .dataframe tbody tr th:only-of-type {\n",
       "        vertical-align: middle;\n",
       "    }\n",
       "\n",
       "    .dataframe tbody tr th {\n",
       "        vertical-align: top;\n",
       "    }\n",
       "\n",
       "    .dataframe thead th {\n",
       "        text-align: right;\n",
       "    }\n",
       "</style>\n",
       "<table border=\"1\" class=\"dataframe\">\n",
       "  <thead>\n",
       "    <tr style=\"text-align: right;\">\n",
       "      <th></th>\n",
       "      <th>User ID</th>\n",
       "      <th>Gender</th>\n",
       "      <th>Age</th>\n",
       "      <th>EstimatedSalary</th>\n",
       "      <th>Purchased</th>\n",
       "    </tr>\n",
       "  </thead>\n",
       "  <tbody>\n",
       "    <tr>\n",
       "      <th>0</th>\n",
       "      <td>15624510</td>\n",
       "      <td>Male</td>\n",
       "      <td>19</td>\n",
       "      <td>19000</td>\n",
       "      <td>0</td>\n",
       "    </tr>\n",
       "    <tr>\n",
       "      <th>1</th>\n",
       "      <td>15810944</td>\n",
       "      <td>Male</td>\n",
       "      <td>35</td>\n",
       "      <td>20000</td>\n",
       "      <td>0</td>\n",
       "    </tr>\n",
       "    <tr>\n",
       "      <th>2</th>\n",
       "      <td>15668575</td>\n",
       "      <td>Female</td>\n",
       "      <td>26</td>\n",
       "      <td>43000</td>\n",
       "      <td>0</td>\n",
       "    </tr>\n",
       "    <tr>\n",
       "      <th>3</th>\n",
       "      <td>15603246</td>\n",
       "      <td>Female</td>\n",
       "      <td>27</td>\n",
       "      <td>57000</td>\n",
       "      <td>0</td>\n",
       "    </tr>\n",
       "    <tr>\n",
       "      <th>4</th>\n",
       "      <td>15804002</td>\n",
       "      <td>Male</td>\n",
       "      <td>19</td>\n",
       "      <td>76000</td>\n",
       "      <td>0</td>\n",
       "    </tr>\n",
       "  </tbody>\n",
       "</table>\n",
       "</div>"
      ],
      "text/plain": [
       "    User ID  Gender  Age  EstimatedSalary  Purchased\n",
       "0  15624510    Male   19            19000          0\n",
       "1  15810944    Male   35            20000          0\n",
       "2  15668575  Female   26            43000          0\n",
       "3  15603246  Female   27            57000          0\n",
       "4  15804002    Male   19            76000          0"
      ]
     },
     "execution_count": 12,
     "metadata": {},
     "output_type": "execute_result"
    }
   ],
   "source": [
    "df.head()"
   ]
  },
  {
   "cell_type": "code",
   "execution_count": 14,
   "metadata": {},
   "outputs": [],
   "source": [
    "df.drop('User ID', axis=1, inplace=True)"
   ]
  },
  {
   "cell_type": "code",
   "execution_count": 28,
   "metadata": {},
   "outputs": [],
   "source": [
    "df = pd.concat([df.drop('Gender', axis=1),\n",
    "                pd.get_dummies(df['Gender'], drop_first=True)], axis=1)\n"
   ]
  },
  {
   "cell_type": "code",
   "execution_count": 30,
   "metadata": {},
   "outputs": [],
   "source": [
    "X = df.iloc[:, :-1].to_numpy()\n",
    "y = df.iloc[:, -1].to_numpy()"
   ]
  },
  {
   "cell_type": "code",
   "execution_count": 32,
   "metadata": {},
   "outputs": [],
   "source": [
    "X=(X-X.mean(axis=0))/X.std(axis=0)"
   ]
  },
  {
   "cell_type": "code",
   "execution_count": 46,
   "metadata": {},
   "outputs": [],
   "source": [
    "X_train, X_test, y_train, y_test = train_test_split(X, y, test_size=0.2, random_state=42 ,  stratify=y)"
   ]
  },
  {
   "cell_type": "code",
   "execution_count": 48,
   "metadata": {},
   "outputs": [],
   "source": [
    "clf=KNeighborsClassifier(n_neighbors=5)"
   ]
  },
  {
   "cell_type": "code",
   "execution_count": 50,
   "metadata": {},
   "outputs": [
    {
     "name": "stdout",
     "output_type": "stream",
     "text": [
      "0.71875\n",
      "0.525\n"
     ]
    }
   ],
   "source": [
    "clf.fit(X_train, y_train)\n",
    "\n",
    "print(clf.score(X_train,y_train))\n",
    "print(clf.score(X_test,y_test))"
   ]
  },
  {
   "cell_type": "code",
   "execution_count": 52,
   "metadata": {},
   "outputs": [
    {
     "name": "stdout",
     "output_type": "stream",
     "text": [
      "Training accuracy: 0.98125 , Test accuracy is 0.475\n",
      "Training accuracy: 0.775 , Test accuracy is 0.4375\n",
      "Training accuracy: 0.71875 , Test accuracy is 0.525\n",
      "Training accuracy: 0.6625 , Test accuracy is 0.475\n",
      "Training accuracy: 0.659375 , Test accuracy is 0.525\n",
      "Training accuracy: 0.640625 , Test accuracy is 0.5625\n",
      "Training accuracy: 0.61875 , Test accuracy is 0.5625\n",
      "Training accuracy: 0.615625 , Test accuracy is 0.55\n",
      "Training accuracy: 0.609375 , Test accuracy is 0.55\n",
      "Training accuracy: 0.61875 , Test accuracy is 0.525\n",
      "Training accuracy: 0.615625 , Test accuracy is 0.525\n",
      "Training accuracy: 0.60625 , Test accuracy is 0.5125\n",
      "Training accuracy: 0.59375 , Test accuracy is 0.5\n",
      "Training accuracy: 0.571875 , Test accuracy is 0.4875\n",
      "Training accuracy: 0.55625 , Test accuracy is 0.525\n",
      "Training accuracy: 0.55625 , Test accuracy is 0.525\n",
      "Training accuracy: 0.54375 , Test accuracy is 0.5125\n",
      "Training accuracy: 0.55 , Test accuracy is 0.5125\n",
      "Training accuracy: 0.540625 , Test accuracy is 0.4875\n",
      "Training accuracy: 0.5625 , Test accuracy is 0.4875\n",
      "Training accuracy: 0.559375 , Test accuracy is 0.475\n",
      "Training accuracy: 0.55625 , Test accuracy is 0.4875\n",
      "Training accuracy: 0.553125 , Test accuracy is 0.475\n",
      "Training accuracy: 0.54375 , Test accuracy is 0.4625\n",
      "Training accuracy: 0.58125 , Test accuracy is 0.4875\n",
      "Training accuracy: 0.5625 , Test accuracy is 0.4875\n",
      "Training accuracy: 0.55 , Test accuracy is 0.5\n",
      "Training accuracy: 0.553125 , Test accuracy is 0.4625\n",
      "Training accuracy: 0.540625 , Test accuracy is 0.475\n",
      "Training accuracy: 0.540625 , Test accuracy is 0.5\n",
      "Training accuracy: 0.5375 , Test accuracy is 0.5125\n",
      "Training accuracy: 0.546875 , Test accuracy is 0.5125\n",
      "Training accuracy: 0.5375 , Test accuracy is 0.4875\n",
      "Training accuracy: 0.540625 , Test accuracy is 0.4875\n",
      "Training accuracy: 0.54375 , Test accuracy is 0.4625\n",
      "Training accuracy: 0.54375 , Test accuracy is 0.45\n",
      "Training accuracy: 0.55 , Test accuracy is 0.425\n",
      "Training accuracy: 0.55625 , Test accuracy is 0.4125\n",
      "Training accuracy: 0.55 , Test accuracy is 0.4875\n",
      "Training accuracy: 0.546875 , Test accuracy is 0.5125\n",
      "Training accuracy: 0.5625 , Test accuracy is 0.475\n",
      "Training accuracy: 0.571875 , Test accuracy is 0.4625\n",
      "Training accuracy: 0.571875 , Test accuracy is 0.45\n",
      "Training accuracy: 0.559375 , Test accuracy is 0.4375\n",
      "Training accuracy: 0.559375 , Test accuracy is 0.425\n",
      "Training accuracy: 0.5375 , Test accuracy is 0.425\n",
      "Training accuracy: 0.54375 , Test accuracy is 0.4375\n",
      "Training accuracy: 0.528125 , Test accuracy is 0.4375\n",
      "Training accuracy: 0.534375 , Test accuracy is 0.4125\n",
      "Training accuracy: 0.53125 , Test accuracy is 0.45\n"
     ]
    }
   ],
   "source": [
    "for i in range(1,100,2):\n",
    "    clf=KNeighborsClassifier(n_neighbors=i)\n",
    "    clf.fit(X_train, y_train)\n",
    "    print('Training accuracy: {} , Test accuracy is {}'.format(clf.score(X_train,y_train),clf.score(X_test,y_test)))\n"
   ]
  },
  {
   "cell_type": "code",
   "execution_count": 66,
   "metadata": {},
   "outputs": [
    {
     "name": "stdout",
     "output_type": "stream",
     "text": [
      "best score is 0.5625  && best K is 11\n"
     ]
    },
    {
     "data": {
      "text/plain": [
       "[<matplotlib.lines.Line2D at 0x131c2f82490>]"
      ]
     },
     "execution_count": 66,
     "metadata": {},
     "output_type": "execute_result"
    },
    {
     "data": {
      "image/png": "[encoded data removed]",
      "text/plain": [
       "<Figure size 640x480 with 1 Axes>"
      ]
     },
     "metadata": {},
     "output_type": "display_data"
    }
   ],
   "source": [
    "Train_score=[]\n",
    "Test_score=[]\n",
    "Best_score= 0\n",
    "Best_k= 0\n",
    "for i in range(1,50,1):\n",
    "    clf=KNeighborsClassifier(n_neighbors=i)\n",
    "    clf.fit(X_train, y_train)\n",
    "    train_acc = clf.score(X_train, y_train)\n",
    "    test_acc = clf.score(X_test, y_test)\n",
    "\n",
    "    Train_score.append(train_acc)\n",
    "    Test_score.append(test_acc)\n",
    "\n",
    "    if test_acc > Best_score:\n",
    "        Best_score = test_acc\n",
    "        Best_k = i\n",
    "print(f\"best score is {Best_score}  && best K is {Best_k}\" )\n",
    "    \n",
    "plt.plot(np.arange(1,50,1), np.array(Train_score), 'b-')\n",
    "plt.plot(np.arange(1,50,1), np.array(Test_score), 'r-')"
   ]
  },
  {
   "cell_type": "code",
   "execution_count": 44,
   "metadata": {},
   "outputs": [
    {
     "data": {
      "text/plain": [
       "Purchased\n",
       "0    257\n",
       "1    143\n",
       "Name: count, dtype: int64"
      ]
     },
     "execution_count": 44,
     "metadata": {},
     "output_type": "execute_result"
    }
   ],
   "source": [
    "df['Purchased'].value_counts()\n"
   ]
  },
  {
   "cell_type": "code",
   "execution_count": null,
   "metadata": {},
   "outputs": [],
   "source": []
  }
 ],
 "metadata": {
  "kernelspec": {
   "display_name": "Python 3 (ipykernel)",
   "language": "python",
   "name": "python3"
  },
  "language_info": {
   "codemirror_mode": {
    "name": "ipython",
    "version": 3
   },
   "file_extension": ".py",
   "mimetype": "text/x-python",
   "name": "python",
   "nbconvert_exporter": "python",
   "pygments_lexer": "ipython3",
   "version": "3.13.7"
  }
 },
 "nbformat": 4,
 "nbformat_minor": 4
}
