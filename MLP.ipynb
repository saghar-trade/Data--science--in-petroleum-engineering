{
 "cells": [
  {
   "cell_type": "code",
   "execution_count": 2,
   "metadata": {},
   "outputs": [],
   "source": [
    "import numpy as np\n",
    "import pandas as pd\n",
    "import matplotlib.pyplot as plt\n",
    "from sklearn.model_selection import train_test_split\n",
    "from sklearn.neural_network import MLPClassifier"
   ]
  },
  {
   "cell_type": "code",
   "execution_count": 3,
   "metadata": {},
   "outputs": [
    {
     "data": {
      "text/html": [
       "<div>\n",
       "<style scoped>\n",
       "    .dataframe tbody tr th:only-of-type {\n",
       "        vertical-align: middle;\n",
       "    }\n",
       "\n",
       "    .dataframe tbody tr th {\n",
       "        vertical-align: top;\n",
       "    }\n",
       "\n",
       "    .dataframe thead th {\n",
       "        text-align: right;\n",
       "    }\n",
       "</style>\n",
       "<table border=\"1\" class=\"dataframe\">\n",
       "  <thead>\n",
       "    <tr style=\"text-align: right;\">\n",
       "      <th></th>\n",
       "      <th>Number</th>\n",
       "      <th>Country</th>\n",
       "      <th>Permeability , md</th>\n",
       "      <th>Depth , ft</th>\n",
       "      <th>Gravity , °API</th>\n",
       "      <th>Viscosity , cp</th>\n",
       "      <th>Temprature , °F</th>\n",
       "      <th>Saturation</th>\n",
       "      <th>Observed</th>\n",
       "    </tr>\n",
       "  </thead>\n",
       "  <tbody>\n",
       "    <tr>\n",
       "      <th>0</th>\n",
       "      <td>1</td>\n",
       "      <td>USA</td>\n",
       "      <td>40</td>\n",
       "      <td>7100</td>\n",
       "      <td>22</td>\n",
       "      <td>20</td>\n",
       "      <td>153.0</td>\n",
       "      <td>1</td>\n",
       "      <td>Polmer</td>\n",
       "    </tr>\n",
       "    <tr>\n",
       "      <th>1</th>\n",
       "      <td>2</td>\n",
       "      <td>USA</td>\n",
       "      <td>33</td>\n",
       "      <td>5250</td>\n",
       "      <td>40</td>\n",
       "      <td>1</td>\n",
       "      <td>135.0</td>\n",
       "      <td>50</td>\n",
       "      <td>Polmer</td>\n",
       "    </tr>\n",
       "    <tr>\n",
       "      <th>2</th>\n",
       "      <td>3</td>\n",
       "      <td>USA</td>\n",
       "      <td>16</td>\n",
       "      <td>7900</td>\n",
       "      <td>30</td>\n",
       "      <td>3</td>\n",
       "      <td>150.0</td>\n",
       "      <td>75</td>\n",
       "      <td>Polmer</td>\n",
       "    </tr>\n",
       "    <tr>\n",
       "      <th>3</th>\n",
       "      <td>4</td>\n",
       "      <td>USA</td>\n",
       "      <td>550</td>\n",
       "      <td>700</td>\n",
       "      <td>35</td>\n",
       "      <td>6</td>\n",
       "      <td>80.0</td>\n",
       "      <td>64</td>\n",
       "      <td>Polmer</td>\n",
       "    </tr>\n",
       "    <tr>\n",
       "      <th>4</th>\n",
       "      <td>5</td>\n",
       "      <td>USA</td>\n",
       "      <td>471</td>\n",
       "      <td>4010</td>\n",
       "      <td>15</td>\n",
       "      <td>75</td>\n",
       "      <td>150.0</td>\n",
       "      <td>62</td>\n",
       "      <td>Polmer</td>\n",
       "    </tr>\n",
       "  </tbody>\n",
       "</table>\n",
       "</div>"
      ],
      "text/plain": [
       "   Number Country  Permeability , md  Depth , ft  Gravity , °API  \\\n",
       "0       1     USA                 40        7100              22   \n",
       "1       2     USA                 33        5250              40   \n",
       "2       3     USA                 16        7900              30   \n",
       "3       4     USA                550         700              35   \n",
       "4       5     USA                471        4010              15   \n",
       "\n",
       "   Viscosity , cp  Temprature , °F  Saturation Observed  \n",
       "0              20            153.0           1   Polmer  \n",
       "1               1            135.0          50   Polmer  \n",
       "2               3            150.0          75   Polmer  \n",
       "3               6             80.0          64   Polmer  \n",
       "4              75            150.0          62   Polmer  "
      ]
     },
     "execution_count": 3,
     "metadata": {},
     "output_type": "execute_result"
    }
   ],
   "source": [
    "df=pd.read_excel('./eordata.xlsx')\n",
    "\n",
    "df.head(5)"
   ]
  },
  {
   "cell_type": "code",
   "execution_count": 6,
   "metadata": {},
   "outputs": [
    {
     "data": {
      "text/html": [
       "<div>\n",
       "<style scoped>\n",
       "    .dataframe tbody tr th:only-of-type {\n",
       "        vertical-align: middle;\n",
       "    }\n",
       "\n",
       "    .dataframe tbody tr th {\n",
       "        vertical-align: top;\n",
       "    }\n",
       "\n",
       "    .dataframe thead th {\n",
       "        text-align: right;\n",
       "    }\n",
       "</style>\n",
       "<table border=\"1\" class=\"dataframe\">\n",
       "  <thead>\n",
       "    <tr style=\"text-align: right;\">\n",
       "      <th></th>\n",
       "      <th>Permeability , md</th>\n",
       "      <th>Depth , ft</th>\n",
       "      <th>Gravity , °API</th>\n",
       "      <th>Viscosity , cp</th>\n",
       "      <th>Temprature , °F</th>\n",
       "      <th>Saturation</th>\n",
       "      <th>Observed</th>\n",
       "    </tr>\n",
       "  </thead>\n",
       "  <tbody>\n",
       "    <tr>\n",
       "      <th>0</th>\n",
       "      <td>40</td>\n",
       "      <td>7100</td>\n",
       "      <td>22</td>\n",
       "      <td>20</td>\n",
       "      <td>153.0</td>\n",
       "      <td>1</td>\n",
       "      <td>Polmer</td>\n",
       "    </tr>\n",
       "    <tr>\n",
       "      <th>1</th>\n",
       "      <td>33</td>\n",
       "      <td>5250</td>\n",
       "      <td>40</td>\n",
       "      <td>1</td>\n",
       "      <td>135.0</td>\n",
       "      <td>50</td>\n",
       "      <td>Polmer</td>\n",
       "    </tr>\n",
       "    <tr>\n",
       "      <th>2</th>\n",
       "      <td>16</td>\n",
       "      <td>7900</td>\n",
       "      <td>30</td>\n",
       "      <td>3</td>\n",
       "      <td>150.0</td>\n",
       "      <td>75</td>\n",
       "      <td>Polmer</td>\n",
       "    </tr>\n",
       "    <tr>\n",
       "      <th>3</th>\n",
       "      <td>550</td>\n",
       "      <td>700</td>\n",
       "      <td>35</td>\n",
       "      <td>6</td>\n",
       "      <td>80.0</td>\n",
       "      <td>64</td>\n",
       "      <td>Polmer</td>\n",
       "    </tr>\n",
       "    <tr>\n",
       "      <th>4</th>\n",
       "      <td>471</td>\n",
       "      <td>4010</td>\n",
       "      <td>15</td>\n",
       "      <td>75</td>\n",
       "      <td>150.0</td>\n",
       "      <td>62</td>\n",
       "      <td>Polmer</td>\n",
       "    </tr>\n",
       "  </tbody>\n",
       "</table>\n",
       "</div>"
      ],
      "text/plain": [
       "   Permeability , md  Depth , ft  Gravity , °API  Viscosity , cp  \\\n",
       "0                 40        7100              22              20   \n",
       "1                 33        5250              40               1   \n",
       "2                 16        7900              30               3   \n",
       "3                550         700              35               6   \n",
       "4                471        4010              15              75   \n",
       "\n",
       "   Temprature , °F  Saturation Observed  \n",
       "0            153.0           1   Polmer  \n",
       "1            135.0          50   Polmer  \n",
       "2            150.0          75   Polmer  \n",
       "3             80.0          64   Polmer  \n",
       "4            150.0          62   Polmer  "
      ]
     },
     "execution_count": 6,
     "metadata": {},
     "output_type": "execute_result"
    }
   ],
   "source": [
    "df.drop('Number', axis=1, inplace=True)\n",
    "df.drop('Country', axis=1, inplace=True)\n",
    "df.head(5)"
   ]
  },
  {
   "cell_type": "code",
   "execution_count": 44,
   "metadata": {},
   "outputs": [],
   "source": [
    "from sklearn.preprocessing import LabelEncoder\n",
    "\n",
    "le = LabelEncoder()\n",
    "df['Observed'] = le.fit_transform(df['Observed'])"
   ]
  },
  {
   "cell_type": "code",
   "execution_count": 46,
   "metadata": {},
   "outputs": [],
   "source": [
    "X = df.to_numpy()\n",
    "\n",
    "\n",
    "y = X[:, -1]\n",
    "X = X[:, :-1]"
   ]
  },
  {
   "cell_type": "code",
   "execution_count": 48,
   "metadata": {},
   "outputs": [
    {
     "name": "stdout",
     "output_type": "stream",
     "text": [
      "Permeability , md      int64\n",
      "Depth , ft             int64\n",
      "Gravity , °API         int64\n",
      "Viscosity , cp         int64\n",
      "Temprature , °F      float64\n",
      "Saturation             int64\n",
      "Observed               int64\n",
      "dtype: object\n"
     ]
    }
   ],
   "source": [
    "print(df.dtypes)"
   ]
  },
  {
   "cell_type": "code",
   "execution_count": 50,
   "metadata": {},
   "outputs": [],
   "source": [
    "X_train, X_test, y_train, y_test = train_test_split(X, y, test_size=0.25, random_state=42)"
   ]
  },
  {
   "cell_type": "code",
   "execution_count": 52,
   "metadata": {},
   "outputs": [],
   "source": [
    "X_train = np.nan_to_num(X_train)\n",
    "X_test = np.nan_to_num(X_test)"
   ]
  },
  {
   "cell_type": "code",
   "execution_count": 54,
   "metadata": {},
   "outputs": [],
   "source": [
    "mean=X_train.mean(axis=0)\n",
    "std=np.std(X_train, axis=0,dtype='float64')\n",
    "X_train=(X_train-mean)/std\n",
    "X_test=(X_test-mean)/std"
   ]
  },
  {
   "cell_type": "code",
   "execution_count": 38,
   "metadata": {},
   "outputs": [
    {
     "name": "stdout",
     "output_type": "stream",
     "text": [
      "object\n"
     ]
    }
   ],
   "source": [
    "print(X_train.dtype)\n",
    "\n"
   ]
  },
  {
   "cell_type": "code",
   "execution_count": 59,
   "metadata": {},
   "outputs": [
    {
     "name": "stdout",
     "output_type": "stream",
     "text": [
      "1.0\n",
      "0.8793103448275862\n"
     ]
    }
   ],
   "source": [
    "clf=MLPClassifier(hidden_layer_sizes=(100,40,40), max_iter=1000, random_state=2)\n",
    "clf.fit(X_train,y_train)\n",
    "print(clf.score(X_train,y_train))\n",
    "print(clf.score(X_test,y_test))"
   ]
  },
  {
   "cell_type": "code",
   "execution_count": 69,
   "metadata": {},
   "outputs": [],
   "source": [
    "SIRI=np.array([[157, 9500, 33.9, 0.57, 220,86]])"
   ]
  },
  {
   "cell_type": "code",
   "execution_count": 71,
   "metadata": {},
   "outputs": [],
   "source": [
    "SIRI_N=(SIRI-mean)/std"
   ]
  },
  {
   "cell_type": "code",
   "execution_count": 79,
   "metadata": {},
   "outputs": [],
   "source": [
    "# پیش‌بینی تمیز + نمایش اعتماد مدل\n",
    "pred = clf.predict(SIRI_N)[0] "
   ]
  },
  {
   "cell_type": "code",
   "execution_count": 81,
   "metadata": {},
   "outputs": [],
   "source": [
    "proba = clf.predict_proba(SIRI_N)[0] "
   ]
  },
  {
   "cell_type": "code",
   "execution_count": 83,
   "metadata": {},
   "outputs": [],
   "source": [
    "classes = clf.classes_  "
   ]
  },
  {
   "cell_type": "code",
   "execution_count": 85,
   "metadata": {},
   "outputs": [],
   "source": [
    "best_idx = proba.argmax()"
   ]
  },
  {
   "cell_type": "code",
   "execution_count": 87,
   "metadata": {},
   "outputs": [
    {
     "name": "stdout",
     "output_type": "stream",
     "text": [
      "🔹 کلاس پیش‌بینی‌شده: 7.0\n",
      "🔸 اطمینان مدل: 99.37%\n"
     ]
    }
   ],
   "source": [
    "print(f\"🔹 کلاس پیش‌بینی‌شده: {pred}\")\n",
    "print(f\"🔸 اطمینان مدل: {proba[best_idx]*100:.2f}%\")\n"
   ]
  },
  {
   "cell_type": "code",
   "execution_count": 89,
   "metadata": {},
   "outputs": [
    {
     "name": "stdout",
     "output_type": "stream",
     "text": [
      "\n",
      "Top احتمالات:\n",
      "  - 7.0: 99.37%\n",
      "  - 0.0: 0.45%\n",
      "  - 1.0: 0.12%\n"
     ]
    }
   ],
   "source": [
    "# (اختیاری) نمایش 3 کلاسِ محتمل‌تر\n",
    "topk = 3 if len(classes) >= 3 else len(classes)\n",
    "sorted_idx = proba.argsort()[::-1][:topk]\n",
    "print(\"\\nTop احتمالات:\")\n",
    "for i in sorted_idx:\n",
    "    print(f\"  - {classes[i]}: {proba[i]*100:.2f}%\")"
   ]
  },
  {
   "cell_type": "code",
   "execution_count": null,
   "metadata": {},
   "outputs": [],
   "source": []
  },
  {
   "cell_type": "code",
   "execution_count": null,
   "metadata": {},
   "outputs": [],
   "source": []
  }
 ],
 "metadata": {
  "kernelspec": {
   "display_name": "Python 3 (ipykernel)",
   "language": "python",
   "name": "python3"
  },
  "language_info": {
   "codemirror_mode": {
    "name": "ipython",
    "version": 3
   },
   "file_extension": ".py",
   "mimetype": "text/x-python",
   "name": "python",
   "nbconvert_exporter": "python",
   "pygments_lexer": "ipython3",
   "version": "3.13.7"
  }
 },
 "nbformat": 4,
 "nbformat_minor": 4
}
