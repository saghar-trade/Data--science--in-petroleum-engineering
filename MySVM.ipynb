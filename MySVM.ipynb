{
 "cells": [
  {
   "cell_type": "code",
   "execution_count": 2,
   "metadata": {},
   "outputs": [],
   "source": [
    "import numpy as np\n",
    "import pandas as pd\n",
    "import matplotlib.pyplot as plt\n",
    "from sklearn.svm import SVC\n",
    "from sklearn.model_selection import train_test_split"
   ]
  },
  {
   "cell_type": "code",
   "execution_count": 4,
   "metadata": {},
   "outputs": [
    {
     "data": {
      "text/html": [
       "<div>\n",
       "<style scoped>\n",
       "    .dataframe tbody tr th:only-of-type {\n",
       "        vertical-align: middle;\n",
       "    }\n",
       "\n",
       "    .dataframe tbody tr th {\n",
       "        vertical-align: top;\n",
       "    }\n",
       "\n",
       "    .dataframe thead th {\n",
       "        text-align: right;\n",
       "    }\n",
       "</style>\n",
       "<table border=\"1\" class=\"dataframe\">\n",
       "  <thead>\n",
       "    <tr style=\"text-align: right;\">\n",
       "      <th></th>\n",
       "      <th>Number</th>\n",
       "      <th>Country</th>\n",
       "      <th>Permeability , md</th>\n",
       "      <th>Depth , ft</th>\n",
       "      <th>Gravity , °API</th>\n",
       "      <th>Viscosity , cp</th>\n",
       "      <th>Temprature , °F</th>\n",
       "      <th>Saturation</th>\n",
       "      <th>Observed</th>\n",
       "    </tr>\n",
       "  </thead>\n",
       "  <tbody>\n",
       "    <tr>\n",
       "      <th>0</th>\n",
       "      <td>1</td>\n",
       "      <td>USA</td>\n",
       "      <td>40</td>\n",
       "      <td>7100</td>\n",
       "      <td>22</td>\n",
       "      <td>20</td>\n",
       "      <td>153.0</td>\n",
       "      <td>1</td>\n",
       "      <td>Polmer</td>\n",
       "    </tr>\n",
       "    <tr>\n",
       "      <th>1</th>\n",
       "      <td>2</td>\n",
       "      <td>USA</td>\n",
       "      <td>33</td>\n",
       "      <td>5250</td>\n",
       "      <td>40</td>\n",
       "      <td>1</td>\n",
       "      <td>135.0</td>\n",
       "      <td>50</td>\n",
       "      <td>Polmer</td>\n",
       "    </tr>\n",
       "    <tr>\n",
       "      <th>2</th>\n",
       "      <td>3</td>\n",
       "      <td>USA</td>\n",
       "      <td>16</td>\n",
       "      <td>7900</td>\n",
       "      <td>30</td>\n",
       "      <td>3</td>\n",
       "      <td>150.0</td>\n",
       "      <td>75</td>\n",
       "      <td>Polmer</td>\n",
       "    </tr>\n",
       "    <tr>\n",
       "      <th>3</th>\n",
       "      <td>4</td>\n",
       "      <td>USA</td>\n",
       "      <td>550</td>\n",
       "      <td>700</td>\n",
       "      <td>35</td>\n",
       "      <td>6</td>\n",
       "      <td>80.0</td>\n",
       "      <td>64</td>\n",
       "      <td>Polmer</td>\n",
       "    </tr>\n",
       "    <tr>\n",
       "      <th>4</th>\n",
       "      <td>5</td>\n",
       "      <td>USA</td>\n",
       "      <td>471</td>\n",
       "      <td>4010</td>\n",
       "      <td>15</td>\n",
       "      <td>75</td>\n",
       "      <td>150.0</td>\n",
       "      <td>62</td>\n",
       "      <td>Polmer</td>\n",
       "    </tr>\n",
       "  </tbody>\n",
       "</table>\n",
       "</div>"
      ],
      "text/plain": [
       "   Number Country  Permeability , md  Depth , ft  Gravity , °API  \\\n",
       "0       1     USA                 40        7100              22   \n",
       "1       2     USA                 33        5250              40   \n",
       "2       3     USA                 16        7900              30   \n",
       "3       4     USA                550         700              35   \n",
       "4       5     USA                471        4010              15   \n",
       "\n",
       "   Viscosity , cp  Temprature , °F  Saturation Observed  \n",
       "0              20            153.0           1   Polmer  \n",
       "1               1            135.0          50   Polmer  \n",
       "2               3            150.0          75   Polmer  \n",
       "3               6             80.0          64   Polmer  \n",
       "4              75            150.0          62   Polmer  "
      ]
     },
     "execution_count": 4,
     "metadata": {},
     "output_type": "execute_result"
    }
   ],
   "source": [
    "df=pd.read_excel('eordata.xlsx')\n",
    "\n",
    "df.head(5)"
   ]
  },
  {
   "cell_type": "code",
   "execution_count": 6,
   "metadata": {},
   "outputs": [
    {
     "data": {
      "text/html": [
       "<div>\n",
       "<style scoped>\n",
       "    .dataframe tbody tr th:only-of-type {\n",
       "        vertical-align: middle;\n",
       "    }\n",
       "\n",
       "    .dataframe tbody tr th {\n",
       "        vertical-align: top;\n",
       "    }\n",
       "\n",
       "    .dataframe thead th {\n",
       "        text-align: right;\n",
       "    }\n",
       "</style>\n",
       "<table border=\"1\" class=\"dataframe\">\n",
       "  <thead>\n",
       "    <tr style=\"text-align: right;\">\n",
       "      <th></th>\n",
       "      <th>Permeability , md</th>\n",
       "      <th>Depth , ft</th>\n",
       "      <th>Gravity , °API</th>\n",
       "      <th>Viscosity , cp</th>\n",
       "      <th>Temprature , °F</th>\n",
       "      <th>Saturation</th>\n",
       "      <th>Observed</th>\n",
       "    </tr>\n",
       "  </thead>\n",
       "  <tbody>\n",
       "    <tr>\n",
       "      <th>0</th>\n",
       "      <td>40</td>\n",
       "      <td>7100</td>\n",
       "      <td>22</td>\n",
       "      <td>20</td>\n",
       "      <td>153.0</td>\n",
       "      <td>1</td>\n",
       "      <td>Polmer</td>\n",
       "    </tr>\n",
       "    <tr>\n",
       "      <th>1</th>\n",
       "      <td>33</td>\n",
       "      <td>5250</td>\n",
       "      <td>40</td>\n",
       "      <td>1</td>\n",
       "      <td>135.0</td>\n",
       "      <td>50</td>\n",
       "      <td>Polmer</td>\n",
       "    </tr>\n",
       "    <tr>\n",
       "      <th>2</th>\n",
       "      <td>16</td>\n",
       "      <td>7900</td>\n",
       "      <td>30</td>\n",
       "      <td>3</td>\n",
       "      <td>150.0</td>\n",
       "      <td>75</td>\n",
       "      <td>Polmer</td>\n",
       "    </tr>\n",
       "    <tr>\n",
       "      <th>3</th>\n",
       "      <td>550</td>\n",
       "      <td>700</td>\n",
       "      <td>35</td>\n",
       "      <td>6</td>\n",
       "      <td>80.0</td>\n",
       "      <td>64</td>\n",
       "      <td>Polmer</td>\n",
       "    </tr>\n",
       "    <tr>\n",
       "      <th>4</th>\n",
       "      <td>471</td>\n",
       "      <td>4010</td>\n",
       "      <td>15</td>\n",
       "      <td>75</td>\n",
       "      <td>150.0</td>\n",
       "      <td>62</td>\n",
       "      <td>Polmer</td>\n",
       "    </tr>\n",
       "  </tbody>\n",
       "</table>\n",
       "</div>"
      ],
      "text/plain": [
       "   Permeability , md  Depth , ft  Gravity , °API  Viscosity , cp  \\\n",
       "0                 40        7100              22              20   \n",
       "1                 33        5250              40               1   \n",
       "2                 16        7900              30               3   \n",
       "3                550         700              35               6   \n",
       "4                471        4010              15              75   \n",
       "\n",
       "   Temprature , °F  Saturation Observed  \n",
       "0            153.0           1   Polmer  \n",
       "1            135.0          50   Polmer  \n",
       "2            150.0          75   Polmer  \n",
       "3             80.0          64   Polmer  \n",
       "4            150.0          62   Polmer  "
      ]
     },
     "execution_count": 6,
     "metadata": {},
     "output_type": "execute_result"
    }
   ],
   "source": [
    "df.drop('Number', axis=1, inplace=True)\n",
    "df.drop('Country', axis=1, inplace=True)\n",
    "df.head(5)"
   ]
  },
  {
   "cell_type": "code",
   "execution_count": 16,
   "metadata": {},
   "outputs": [],
   "source": [
    "from sklearn.preprocessing import LabelEncoder\n",
    "\n",
    "le = LabelEncoder()\n",
    "df['Observed'] = le.fit_transform(df['Observed'])"
   ]
  },
  {
   "cell_type": "code",
   "execution_count": 18,
   "metadata": {},
   "outputs": [],
   "source": [
    "X = df.to_numpy()\n",
    "\n",
    "\n",
    "y = X[:, -1]\n",
    "\n",
    "X = X[:, :-1]"
   ]
  },
  {
   "cell_type": "code",
   "execution_count": 20,
   "metadata": {},
   "outputs": [],
   "source": [
    "X_train, X_test, y_train, y_test = train_test_split(X, y, test_size=0.25, random_state=42)"
   ]
  },
  {
   "cell_type": "code",
   "execution_count": 22,
   "metadata": {},
   "outputs": [],
   "source": [
    "mean=X_train.mean(axis=0)\n",
    "std=np.std(X_train, axis=0,dtype='float64')\n",
    "X_train=(X_train-mean)/std\n",
    "X_test=(X_test-mean)/std"
   ]
  },
  {
   "cell_type": "code",
   "execution_count": 24,
   "metadata": {},
   "outputs": [
    {
     "name": "stdout",
     "output_type": "stream",
     "text": [
      "True\n",
      "False\n"
     ]
    }
   ],
   "source": [
    "print(np.isnan(X_train).any())\n",
    "print(np.isinf(X_train).any())"
   ]
  },
  {
   "cell_type": "code",
   "execution_count": 26,
   "metadata": {},
   "outputs": [],
   "source": [
    "X_train = np.nan_to_num(X_train)\n",
    "X_test = np.nan_to_num(X_test)"
   ]
  },
  {
   "cell_type": "code",
   "execution_count": 28,
   "metadata": {},
   "outputs": [
    {
     "data": {
      "text/plain": [
       "[<matplotlib.lines.Line2D at 0x1f49c910910>]"
      ]
     },
     "execution_count": 28,
     "metadata": {},
     "output_type": "execute_result"
    },
    {
     "data": {
      "image/png": "[encoded data removed]",
      "text/plain": [
       "<Figure size 640x480 with 1 Axes>"
      ]
     },
     "metadata": {},
     "output_type": "display_data"
    }
   ],
   "source": [
    "Train_score=[]\n",
    "Test_score=[]\n",
    "for c in np.arange(0.01,10, 0.01):\n",
    "    clf=SVC(C=c, kernel='rbf')\n",
    "    clf.fit(X_train, y_train)\n",
    "    Train_score.append(clf.score(X_train,y_train))\n",
    "    Test_score.append(clf.score(X_test,y_test))\n",
    "\n",
    "    \n",
    "plt.plot(np.arange(0.01,10, 0.01), np.array(Train_score), 'b-')\n",
    "plt.plot(np.arange(0.01,10, 0.01), np.array(Test_score), 'r-')"
   ]
  },
  {
   "cell_type": "code",
   "execution_count": 8,
   "metadata": {},
   "outputs": [
    {
     "name": "stdout",
     "output_type": "stream",
     "text": [
      "0.935672514619883\n",
      "0.8771929824561403\n"
     ]
    }
   ],
   "source": [
    "clf=SVC(C=6.5, kernel='rbf')\n",
    "clf.fit(X_train, y_train)\n",
    "\n",
    "print(clf.score(X_train,y_train))\n",
    "print(clf.score(X_test,y_test))"
   ]
  },
  {
   "cell_type": "code",
   "execution_count": 44,
   "metadata": {},
   "outputs": [],
   "source": [
    "SIRI=np.array([[12.5,2.43, 9022, 32.9, 1.02, 197]])"
   ]
  },
  {
   "cell_type": "code",
   "execution_count": 36,
   "metadata": {},
   "outputs": [],
   "source": [
    "SIRI_N=np.nan_to_num((SIRI-mean)/std)"
   ]
  },
  {
   "cell_type": "code",
   "execution_count": 48,
   "metadata": {},
   "outputs": [
    {
     "data": {
      "text/plain": [
       "array([0.])"
      ]
     },
     "execution_count": 48,
     "metadata": {},
     "output_type": "execute_result"
    }
   ],
   "source": [
    "clf.predict(SIRI_N)"
   ]
  },
  {
   "cell_type": "code",
   "execution_count": 52,
   "metadata": {},
   "outputs": [
    {
     "name": "stdout",
     "output_type": "stream",
     "text": [
      "CO2\n"
     ]
    }
   ],
   "source": [
    "print(le.classes_[0])\n"
   ]
  },
  {
   "cell_type": "code",
   "execution_count": null,
   "metadata": {},
   "outputs": [],
   "source": []
  }
 ],
 "metadata": {
  "kernelspec": {
   "display_name": "Python 3 (ipykernel)",
   "language": "python",
   "name": "python3"
  },
  "language_info": {
   "codemirror_mode": {
    "name": "ipython",
    "version": 3
   },
   "file_extension": ".py",
   "mimetype": "text/x-python",
   "name": "python",
   "nbconvert_exporter": "python",
   "pygments_lexer": "ipython3",
   "version": "3.13.7"
  }
 },
 "nbformat": 4,
 "nbformat_minor": 4
}
