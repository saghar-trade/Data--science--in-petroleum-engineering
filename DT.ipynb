{
 "cells": [
  {
   "cell_type": "code",
   "execution_count": 22,
   "metadata": {},
   "outputs": [],
   "source": [
    "import numpy as np\n",
    "import pandas as pd\n",
    "import matplotlib.pyplot as plt\n",
    "from sklearn.model_selection import train_test_split\n",
    "from sklearn.tree import DecisionTreeClassifier"
   ]
  },
  {
   "cell_type": "code",
   "execution_count": 23,
   "metadata": {},
   "outputs": [
    {
     "data": {
      "text/html": [
       "<div>\n",
       "<style scoped>\n",
       "    .dataframe tbody tr th:only-of-type {\n",
       "        vertical-align: middle;\n",
       "    }\n",
       "\n",
       "    .dataframe tbody tr th {\n",
       "        vertical-align: top;\n",
       "    }\n",
       "\n",
       "    .dataframe thead th {\n",
       "        text-align: right;\n",
       "    }\n",
       "</style>\n",
       "<table border=\"1\" class=\"dataframe\">\n",
       "  <thead>\n",
       "    <tr style=\"text-align: right;\">\n",
       "      <th></th>\n",
       "      <th>Number</th>\n",
       "      <th>Country</th>\n",
       "      <th>Permeability , md</th>\n",
       "      <th>Depth , ft</th>\n",
       "      <th>Gravity , °API</th>\n",
       "      <th>Viscosity , cp</th>\n",
       "      <th>Temprature , °F</th>\n",
       "      <th>Saturation</th>\n",
       "      <th>Observed</th>\n",
       "    </tr>\n",
       "  </thead>\n",
       "  <tbody>\n",
       "    <tr>\n",
       "      <th>0</th>\n",
       "      <td>1</td>\n",
       "      <td>USA</td>\n",
       "      <td>40</td>\n",
       "      <td>7100</td>\n",
       "      <td>22</td>\n",
       "      <td>20</td>\n",
       "      <td>153.0</td>\n",
       "      <td>1</td>\n",
       "      <td>Polmer</td>\n",
       "    </tr>\n",
       "    <tr>\n",
       "      <th>1</th>\n",
       "      <td>2</td>\n",
       "      <td>USA</td>\n",
       "      <td>33</td>\n",
       "      <td>5250</td>\n",
       "      <td>40</td>\n",
       "      <td>1</td>\n",
       "      <td>135.0</td>\n",
       "      <td>50</td>\n",
       "      <td>Polmer</td>\n",
       "    </tr>\n",
       "    <tr>\n",
       "      <th>2</th>\n",
       "      <td>3</td>\n",
       "      <td>USA</td>\n",
       "      <td>16</td>\n",
       "      <td>7900</td>\n",
       "      <td>30</td>\n",
       "      <td>3</td>\n",
       "      <td>150.0</td>\n",
       "      <td>75</td>\n",
       "      <td>Polmer</td>\n",
       "    </tr>\n",
       "    <tr>\n",
       "      <th>3</th>\n",
       "      <td>4</td>\n",
       "      <td>USA</td>\n",
       "      <td>550</td>\n",
       "      <td>700</td>\n",
       "      <td>35</td>\n",
       "      <td>6</td>\n",
       "      <td>80.0</td>\n",
       "      <td>64</td>\n",
       "      <td>Polmer</td>\n",
       "    </tr>\n",
       "    <tr>\n",
       "      <th>4</th>\n",
       "      <td>5</td>\n",
       "      <td>USA</td>\n",
       "      <td>471</td>\n",
       "      <td>4010</td>\n",
       "      <td>15</td>\n",
       "      <td>75</td>\n",
       "      <td>150.0</td>\n",
       "      <td>62</td>\n",
       "      <td>Polmer</td>\n",
       "    </tr>\n",
       "  </tbody>\n",
       "</table>\n",
       "</div>"
      ],
      "text/plain": [
       "   Number Country  Permeability , md  Depth , ft  Gravity , °API  \\\n",
       "0       1     USA                 40        7100              22   \n",
       "1       2     USA                 33        5250              40   \n",
       "2       3     USA                 16        7900              30   \n",
       "3       4     USA                550         700              35   \n",
       "4       5     USA                471        4010              15   \n",
       "\n",
       "   Viscosity , cp  Temprature , °F  Saturation Observed  \n",
       "0              20            153.0           1   Polmer  \n",
       "1               1            135.0          50   Polmer  \n",
       "2               3            150.0          75   Polmer  \n",
       "3               6             80.0          64   Polmer  \n",
       "4              75            150.0          62   Polmer  "
      ]
     },
     "execution_count": 23,
     "metadata": {},
     "output_type": "execute_result"
    }
   ],
   "source": [
    "df=pd.read_excel('eordata.xlsx')\n",
    "\n",
    "df.head(5)"
   ]
  },
  {
   "cell_type": "code",
   "execution_count": 24,
   "metadata": {},
   "outputs": [
    {
     "data": {
      "text/html": [
       "<div>\n",
       "<style scoped>\n",
       "    .dataframe tbody tr th:only-of-type {\n",
       "        vertical-align: middle;\n",
       "    }\n",
       "\n",
       "    .dataframe tbody tr th {\n",
       "        vertical-align: top;\n",
       "    }\n",
       "\n",
       "    .dataframe thead th {\n",
       "        text-align: right;\n",
       "    }\n",
       "</style>\n",
       "<table border=\"1\" class=\"dataframe\">\n",
       "  <thead>\n",
       "    <tr style=\"text-align: right;\">\n",
       "      <th></th>\n",
       "      <th>Permeability , md</th>\n",
       "      <th>Depth , ft</th>\n",
       "      <th>Gravity , °API</th>\n",
       "      <th>Viscosity , cp</th>\n",
       "      <th>Temprature , °F</th>\n",
       "      <th>Saturation</th>\n",
       "      <th>Observed</th>\n",
       "    </tr>\n",
       "  </thead>\n",
       "  <tbody>\n",
       "    <tr>\n",
       "      <th>0</th>\n",
       "      <td>40</td>\n",
       "      <td>7100</td>\n",
       "      <td>22</td>\n",
       "      <td>20</td>\n",
       "      <td>153.0</td>\n",
       "      <td>1</td>\n",
       "      <td>Polmer</td>\n",
       "    </tr>\n",
       "    <tr>\n",
       "      <th>1</th>\n",
       "      <td>33</td>\n",
       "      <td>5250</td>\n",
       "      <td>40</td>\n",
       "      <td>1</td>\n",
       "      <td>135.0</td>\n",
       "      <td>50</td>\n",
       "      <td>Polmer</td>\n",
       "    </tr>\n",
       "    <tr>\n",
       "      <th>2</th>\n",
       "      <td>16</td>\n",
       "      <td>7900</td>\n",
       "      <td>30</td>\n",
       "      <td>3</td>\n",
       "      <td>150.0</td>\n",
       "      <td>75</td>\n",
       "      <td>Polmer</td>\n",
       "    </tr>\n",
       "    <tr>\n",
       "      <th>3</th>\n",
       "      <td>550</td>\n",
       "      <td>700</td>\n",
       "      <td>35</td>\n",
       "      <td>6</td>\n",
       "      <td>80.0</td>\n",
       "      <td>64</td>\n",
       "      <td>Polmer</td>\n",
       "    </tr>\n",
       "    <tr>\n",
       "      <th>4</th>\n",
       "      <td>471</td>\n",
       "      <td>4010</td>\n",
       "      <td>15</td>\n",
       "      <td>75</td>\n",
       "      <td>150.0</td>\n",
       "      <td>62</td>\n",
       "      <td>Polmer</td>\n",
       "    </tr>\n",
       "  </tbody>\n",
       "</table>\n",
       "</div>"
      ],
      "text/plain": [
       "   Permeability , md  Depth , ft  Gravity , °API  Viscosity , cp  \\\n",
       "0                 40        7100              22              20   \n",
       "1                 33        5250              40               1   \n",
       "2                 16        7900              30               3   \n",
       "3                550         700              35               6   \n",
       "4                471        4010              15              75   \n",
       "\n",
       "   Temprature , °F  Saturation Observed  \n",
       "0            153.0           1   Polmer  \n",
       "1            135.0          50   Polmer  \n",
       "2            150.0          75   Polmer  \n",
       "3             80.0          64   Polmer  \n",
       "4            150.0          62   Polmer  "
      ]
     },
     "execution_count": 24,
     "metadata": {},
     "output_type": "execute_result"
    }
   ],
   "source": [
    "df.drop('Number', axis=1, inplace=True)\n",
    "df.drop('Country', axis=1, inplace=True)\n",
    "df.head(5)"
   ]
  },
  {
   "cell_type": "code",
   "execution_count": 25,
   "metadata": {},
   "outputs": [
    {
     "data": {
      "text/html": [
       "<div>\n",
       "<style scoped>\n",
       "    .dataframe tbody tr th:only-of-type {\n",
       "        vertical-align: middle;\n",
       "    }\n",
       "\n",
       "    .dataframe tbody tr th {\n",
       "        vertical-align: top;\n",
       "    }\n",
       "\n",
       "    .dataframe thead th {\n",
       "        text-align: right;\n",
       "    }\n",
       "</style>\n",
       "<table border=\"1\" class=\"dataframe\">\n",
       "  <thead>\n",
       "    <tr style=\"text-align: right;\">\n",
       "      <th></th>\n",
       "      <th>Permeability , md</th>\n",
       "      <th>Depth , ft</th>\n",
       "      <th>Gravity , °API</th>\n",
       "      <th>Viscosity , cp</th>\n",
       "      <th>Temprature , °F</th>\n",
       "      <th>Saturation</th>\n",
       "    </tr>\n",
       "  </thead>\n",
       "  <tbody>\n",
       "    <tr>\n",
       "      <th>count</th>\n",
       "      <td>463.000000</td>\n",
       "      <td>463.000000</td>\n",
       "      <td>463.000000</td>\n",
       "      <td>4.630000e+02</td>\n",
       "      <td>457.000000</td>\n",
       "      <td>463.000000</td>\n",
       "    </tr>\n",
       "    <tr>\n",
       "      <th>mean</th>\n",
       "      <td>1388.494600</td>\n",
       "      <td>3765.827214</td>\n",
       "      <td>25.788337</td>\n",
       "      <td>1.511113e+04</td>\n",
       "      <td>121.119256</td>\n",
       "      <td>60.611231</td>\n",
       "    </tr>\n",
       "    <tr>\n",
       "      <th>std</th>\n",
       "      <td>1955.373648</td>\n",
       "      <td>2958.532222</td>\n",
       "      <td>11.900131</td>\n",
       "      <td>2.324802e+05</td>\n",
       "      <td>43.023422</td>\n",
       "      <td>16.069790</td>\n",
       "    </tr>\n",
       "    <tr>\n",
       "      <th>min</th>\n",
       "      <td>0.000000</td>\n",
       "      <td>33.000000</td>\n",
       "      <td>8.000000</td>\n",
       "      <td>0.000000e+00</td>\n",
       "      <td>5.000000</td>\n",
       "      <td>1.000000</td>\n",
       "    </tr>\n",
       "    <tr>\n",
       "      <th>25%</th>\n",
       "      <td>30.000000</td>\n",
       "      <td>1400.000000</td>\n",
       "      <td>13.000000</td>\n",
       "      <td>1.000000e+00</td>\n",
       "      <td>100.000000</td>\n",
       "      <td>50.000000</td>\n",
       "    </tr>\n",
       "    <tr>\n",
       "      <th>50%</th>\n",
       "      <td>500.000000</td>\n",
       "      <td>2900.000000</td>\n",
       "      <td>26.000000</td>\n",
       "      <td>1.700000e+01</td>\n",
       "      <td>106.000000</td>\n",
       "      <td>60.000000</td>\n",
       "    </tr>\n",
       "    <tr>\n",
       "      <th>75%</th>\n",
       "      <td>2000.000000</td>\n",
       "      <td>5400.000000</td>\n",
       "      <td>37.000000</td>\n",
       "      <td>1.952000e+03</td>\n",
       "      <td>133.000000</td>\n",
       "      <td>70.500000</td>\n",
       "    </tr>\n",
       "    <tr>\n",
       "      <th>max</th>\n",
       "      <td>11500.000000</td>\n",
       "      <td>18500.000000</td>\n",
       "      <td>57.000000</td>\n",
       "      <td>4.990000e+06</td>\n",
       "      <td>325.000000</td>\n",
       "      <td>98.000000</td>\n",
       "    </tr>\n",
       "  </tbody>\n",
       "</table>\n",
       "</div>"
      ],
      "text/plain": [
       "       Permeability , md    Depth , ft  Gravity , °API  Viscosity , cp  \\\n",
       "count         463.000000    463.000000      463.000000    4.630000e+02   \n",
       "mean         1388.494600   3765.827214       25.788337    1.511113e+04   \n",
       "std          1955.373648   2958.532222       11.900131    2.324802e+05   \n",
       "min             0.000000     33.000000        8.000000    0.000000e+00   \n",
       "25%            30.000000   1400.000000       13.000000    1.000000e+00   \n",
       "50%           500.000000   2900.000000       26.000000    1.700000e+01   \n",
       "75%          2000.000000   5400.000000       37.000000    1.952000e+03   \n",
       "max         11500.000000  18500.000000       57.000000    4.990000e+06   \n",
       "\n",
       "       Temprature , °F  Saturation  \n",
       "count       457.000000  463.000000  \n",
       "mean        121.119256   60.611231  \n",
       "std          43.023422   16.069790  \n",
       "min           5.000000    1.000000  \n",
       "25%         100.000000   50.000000  \n",
       "50%         106.000000   60.000000  \n",
       "75%         133.000000   70.500000  \n",
       "max         325.000000   98.000000  "
      ]
     },
     "execution_count": 25,
     "metadata": {},
     "output_type": "execute_result"
    }
   ],
   "source": [
    "df.describe()"
   ]
  },
  {
   "cell_type": "code",
   "execution_count": 26,
   "metadata": {},
   "outputs": [
    {
     "data": {
      "text/plain": [
       "Permeability , md    177\n",
       "Depth , ft           192\n",
       "Gravity , °API        42\n",
       "Viscosity , cp       119\n",
       "Temprature , °F      105\n",
       "Saturation            67\n",
       "Observed               8\n",
       "dtype: int64"
      ]
     },
     "execution_count": 26,
     "metadata": {},
     "output_type": "execute_result"
    }
   ],
   "source": [
    "df.nunique()"
   ]
  },
  {
   "cell_type": "code",
   "execution_count": 27,
   "metadata": {},
   "outputs": [
    {
     "data": {
      "text/plain": [
       "(19, 7)"
      ]
     },
     "execution_count": 27,
     "metadata": {},
     "output_type": "execute_result"
    }
   ],
   "source": [
    "df[df['Observed']=='combution'].shape"
   ]
  },
  {
   "cell_type": "code",
   "execution_count": 28,
   "metadata": {},
   "outputs": [],
   "source": [
    "X = df.to_numpy()\n",
    "\n",
    "\n",
    "y = X[:, -1]\n",
    "X = X[:, :-1]"
   ]
  },
  {
   "cell_type": "code",
   "execution_count": 29,
   "metadata": {},
   "outputs": [
    {
     "data": {
      "text/plain": [
       "(463, 6)"
      ]
     },
     "execution_count": 29,
     "metadata": {},
     "output_type": "execute_result"
    }
   ],
   "source": [
    "X.shape"
   ]
  },
  {
   "cell_type": "code",
   "execution_count": 30,
   "metadata": {},
   "outputs": [
    {
     "data": {
      "text/plain": [
       "array([[40, 7100, 22, 20, 153.0, 1],\n",
       "       [33, 5250, 40, 1, 135.0, 50],\n",
       "       [16, 7900, 30, 3, 150.0, 75],\n",
       "       ...,\n",
       "       [3500, 475, 19, 1200, nan, 65],\n",
       "       [2000, 2100, 12, 900, nan, 15],\n",
       "       [1500, 1350, 14, 3350, nan, 48]], shape=(463, 6), dtype=object)"
      ]
     },
     "execution_count": 30,
     "metadata": {},
     "output_type": "execute_result"
    }
   ],
   "source": [
    "X"
   ]
  },
  {
   "cell_type": "code",
   "execution_count": 31,
   "metadata": {},
   "outputs": [],
   "source": [
    "X_train, X_test, y_train, y_test = train_test_split(X, y, test_size=0.25, random_state=42)"
   ]
  },
  {
   "cell_type": "code",
   "execution_count": 32,
   "metadata": {},
   "outputs": [],
   "source": [
    "mean=X_train.mean(axis=0)\n",
    "std=np.std(X_train, axis=0,dtype='float64')\n",
    "X_train=(X_train-mean)/std\n",
    "X_test=(X_test-mean)/std"
   ]
  },
  {
   "cell_type": "code",
   "execution_count": 33,
   "metadata": {},
   "outputs": [
    {
     "data": {
      "text/plain": [
       "<matplotlib.legend.Legend at 0x1fe3c7a02f0>"
      ]
     },
     "execution_count": 33,
     "metadata": {},
     "output_type": "execute_result"
    },
    {
     "data": {
      "image/png": "[encoded data removed]",
      "text/plain": [
       "<Figure size 640x480 with 1 Axes>"
      ]
     },
     "metadata": {},
     "output_type": "display_data"
    }
   ],
   "source": [
    "train_scores = []\n",
    "test_scores = []\n",
    "for d in range(1, 16):\n",
    "    clf = DecisionTreeClassifier(max_depth=d, criterion='entropy', random_state=2, class_weight='balanced')\n",
    "    clf.fit(X_train, y_train)\n",
    "    \n",
    "    train_scores.append(clf.score(X_train, y_train))\n",
    "    test_scores.append(clf.score(X_test, y_test))\n",
    "\n",
    "plt.plot(np.arange(1, 16, 1), np.array(train_scores), 'b-', label='Training phase')\n",
    "plt.plot(np.arange(1, 16, 1), np.array(test_scores), 'g-',label='Testing phase')\n",
    "plt.xlabel('Max depth parameter')\n",
    "plt.ylabel('Accuracy')\n",
    "plt.legend()"
   ]
  },
  {
   "cell_type": "code",
   "execution_count": 34,
   "metadata": {},
   "outputs": [
    {
     "name": "stdout",
     "output_type": "stream",
     "text": [
      "max depth :  9\n",
      "train accuracy :  0.9913544668587896\n",
      "test accuracy :  0.8017241379310345\n"
     ]
    }
   ],
   "source": [
    "clf = DecisionTreeClassifier(max_depth=9, criterion='entropy', random_state=2, class_weight='balanced')\n",
    "clf.fit(X_train, y_train)\n",
    "print('max depth : ', clf.tree_.max_depth)\n",
    "print('train accuracy : ', clf.score(X_train, y_train))\n",
    "print('test accuracy : ', clf.score(X_test, y_test))"
   ]
  },
  {
   "cell_type": "code",
   "execution_count": 55,
   "metadata": {},
   "outputs": [],
   "source": [
    "SIRI=np.array([[157, 9500, 33.9, 0.57, 220,86]])"
   ]
  },
  {
   "cell_type": "code",
   "execution_count": 57,
   "metadata": {},
   "outputs": [],
   "source": [
    "SIRI_N=(SIRI-mean)/std"
   ]
  },
  {
   "cell_type": "code",
   "execution_count": 59,
   "metadata": {},
   "outputs": [
    {
     "data": {
      "text/plain": [
       "array(['Hydrocarbon'], dtype=object)"
      ]
     },
     "execution_count": 59,
     "metadata": {},
     "output_type": "execute_result"
    }
   ],
   "source": [
    "clf.predict(SIRI_N)"
   ]
  },
  {
   "cell_type": "code",
   "execution_count": null,
   "metadata": {},
   "outputs": [],
   "source": []
  }
 ],
 "metadata": {
  "kernelspec": {
   "display_name": "Python 3 (ipykernel)",
   "language": "python",
   "name": "python3"
  },
  "language_info": {
   "codemirror_mode": {
    "name": "ipython",
    "version": 3
   },
   "file_extension": ".py",
   "mimetype": "text/x-python",
   "name": "python",
   "nbconvert_exporter": "python",
   "pygments_lexer": "ipython3",
   "version": "3.13.7"
  }
 },
 "nbformat": 4,
 "nbformat_minor": 4
}
